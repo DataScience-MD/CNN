{
  "nbformat": 4,
  "nbformat_minor": 0,
  "metadata": {
    "colab": {
      "name": "CNN_Model_Evaluation.ipynb",
      "provenance": [],
      "collapsed_sections": [],
      "include_colab_link": true
    },
    "kernelspec": {
      "name": "python3",
      "display_name": "Python 3"
    }
  },
  "cells": [
    {
      "cell_type": "markdown",
      "metadata": {
        "id": "view-in-github",
        "colab_type": "text"
      },
      "source": [
        "<a href=\"https://colab.research.google.com/github/DataScience-MD/CNN/blob/master/CNN_Model_Evaluation_Secret_Squirrels.ipynb\" target=\"_parent\"><img src=\"https://colab.research.google.com/assets/colab-badge.svg\" alt=\"Open In Colab\"/></a>"
      ]
    },
    {
      "cell_type": "markdown",
      "metadata": {
        "id": "4qKSBkyzbFfd",
        "colab_type": "text"
      },
      "source": [
        "Secret Squirrels Team Project - Evaluating an Image Classifier"
      ]
    },
    {
      "cell_type": "code",
      "metadata": {
        "id": "l5u5W_AgK8qt",
        "colab_type": "code",
        "outputId": "7ff781e8-63a2-4a67-a4bf-2d0df3ffe4be",
        "colab": {
          "base_uri": "https://localhost:8080/",
          "height": 124
        }
      },
      "source": [
        "!git clone https://github.com/NIU-Data-Science/CNN-exercise.git\n",
        "#reference:To import .py files in Colab, reference this post on Stackoverflow:https://stackoverflow.com/questions/48905127/importing-py-files-in-google-colab\n",
        "# NEEDS TO BE DONE EVERY TIME YOU REOPEN THE FILE"
      ],
      "execution_count": 1,
      "outputs": [
        {
          "output_type": "stream",
          "text": [
            "Cloning into 'CNN-exercise'...\n",
            "remote: Enumerating objects: 9, done.\u001b[K\n",
            "remote: Counting objects: 100% (9/9), done.\u001b[K\n",
            "remote: Compressing objects: 100% (9/9), done.\u001b[K\n",
            "remote: Total 9 (delta 2), reused 0 (delta 0), pack-reused 0\u001b[K\n",
            "Unpacking objects: 100% (9/9), done.\n"
          ],
          "name": "stdout"
        }
      ]
    },
    {
      "cell_type": "code",
      "metadata": {
        "id": "BulHmz82LR_c",
        "colab_type": "code",
        "colab": {}
      },
      "source": [
        "# Import package to use Google Drive API - not installed in Colab VM by default\n",
        "# PyDrive is a wrapper library of google-api-python-client that simplifies many common Google Drive API tasks. For this exercise, this allows you to authorize\n",
        "from pydrive.auth import GoogleAuth\n",
        "from pydrive.auth import GoogleAuth\n",
        "from pydrive.drive import GoogleDrive\n",
        "# Other necessary packages\n",
        "from google.colab import auth\n",
        "from oauth2client.client import GoogleCredentials\n",
        "from tensorflow.keras.callbacks import ModelCheckpoint"
      ],
      "execution_count": 0,
      "outputs": []
    },
    {
      "cell_type": "code",
      "metadata": {
        "id": "d5GKHvs-Nhji",
        "colab_type": "code",
        "colab": {}
      },
      "source": [
        "# Follow prompt in the authorization process\n",
        "\n",
        "auth.authenticate_user()\n",
        "gauth = GoogleAuth()\n",
        "gauth.credentials = GoogleCredentials.get_application_default()\n",
        "drive = GoogleDrive(gauth)"
      ],
      "execution_count": 0,
      "outputs": []
    },
    {
      "cell_type": "code",
      "metadata": {
        "id": "oXUN0CII852A",
        "colab_type": "code",
        "outputId": "65806489-ed44-40e5-8bcb-9b41036cf826",
        "colab": {
          "base_uri": "https://localhost:8080/",
          "height": 34
        }
      },
      "source": [
        "%cd /content/CNN-exercise"
      ],
      "execution_count": 0,
      "outputs": [
        {
          "output_type": "stream",
          "text": [
            "/content/CNN-exercise\n"
          ],
          "name": "stdout"
        }
      ]
    },
    {
      "cell_type": "code",
      "metadata": {
        "id": "_Zal708l6-uh",
        "colab_type": "code",
        "outputId": "fa24bf13-e9c8-44b0-d911-e6e1d77cf3ee",
        "colab": {
          "base_uri": "https://localhost:8080/",
          "height": 68
        }
      },
      "source": [
        "%ls"
      ],
      "execution_count": 0,
      "outputs": [
        {
          "output_type": "stream",
          "text": [
            "classifier_function.py  CNN_trainer.py  output.txt    \u001b[0m\u001b[01;34mtest_set\u001b[0m/\n",
            "\u001b[01;34mCNN-exercise\u001b[0m/           images.zip      \u001b[01;34m__pycache__\u001b[0m/  \u001b[01;34mtraining_set\u001b[0m/\n",
            "CNN_model.h5            output.csv      README.md\n"
          ],
          "name": "stdout"
        }
      ]
    },
    {
      "cell_type": "code",
      "metadata": {
        "id": "s05e0XDy75MR",
        "colab_type": "code",
        "colab": {}
      },
      "source": [
        "import classifier_function"
      ],
      "execution_count": 0,
      "outputs": []
    },
    {
      "cell_type": "code",
      "metadata": {
        "id": "J1jALFwU75Lk",
        "colab_type": "code",
        "outputId": "dad6f797-1c8b-4a81-be64-5b8919dcb430",
        "colab": {
          "base_uri": "https://localhost:8080/",
          "height": 71
        }
      },
      "source": [
        "out_list = classifier_function.image_classifier('/content/CNN-exercise/test_set/', '/content/CNN-exercise/CNN_model.h5')\n"
      ],
      "execution_count": 0,
      "outputs": [
        {
          "output_type": "stream",
          "text": [
            "/usr/local/lib/python3.6/dist-packages/PIL/Image.py:932: UserWarning: Palette images with Transparency expressed in bytes should be converted to RGBA images\n",
            "  \"Palette images with Transparency expressed in bytes should be \"\n"
          ],
          "name": "stderr"
        }
      ]
    },
    {
      "cell_type": "code",
      "metadata": {
        "id": "m0dnXTLWT0bC",
        "colab_type": "code",
        "outputId": "07e4aea9-ab53-4236-98a7-67e0e5674383",
        "colab": {
          "base_uri": "https://localhost:8080/",
          "height": 1000
        }
      },
      "source": [
        "out_list"
      ],
      "execution_count": 0,
      "outputs": [
        {
          "output_type": "execute_result",
          "data": {
            "text/plain": [
              "{'/content/CNN-exercise/test_set/not_tank/google_images_2019-10-03_13h_34m_38s_00000890.jpg': array([[0.]], dtype=float32),\n",
              " '/content/CNN-exercise/test_set/not_tank/google_images_2019-10-03_13h_34m_38s_00000891.jpg': array([[1.]], dtype=float32),\n",
              " '/content/CNN-exercise/test_set/not_tank/google_images_2019-10-03_13h_34m_38s_00000892.jpg': array([[0.]], dtype=float32),\n",
              " '/content/CNN-exercise/test_set/not_tank/google_images_2019-10-03_13h_34m_38s_00000893.jpg': array([[0.]], dtype=float32),\n",
              " '/content/CNN-exercise/test_set/not_tank/google_images_2019-10-03_13h_34m_38s_00000894.jpg': array([[0.]], dtype=float32),\n",
              " '/content/CNN-exercise/test_set/not_tank/google_images_2019-10-03_13h_34m_38s_00000897.jpg': array([[0.]], dtype=float32),\n",
              " '/content/CNN-exercise/test_set/not_tank/google_images_2019-10-03_13h_34m_38s_00000898.jpg': array([[0.]], dtype=float32),\n",
              " '/content/CNN-exercise/test_set/not_tank/google_images_2019-10-03_13h_34m_38s_00000900.jpg': array([[0.]], dtype=float32),\n",
              " '/content/CNN-exercise/test_set/not_tank/google_images_2019-10-03_13h_34m_38s_00000901.jpg': array([[0.]], dtype=float32),\n",
              " '/content/CNN-exercise/test_set/not_tank/google_images_2019-10-03_13h_34m_38s_00000902.jpg': array([[0.]], dtype=float32),\n",
              " '/content/CNN-exercise/test_set/not_tank/google_images_2019-10-03_13h_34m_38s_00000904.jpg': array([[0.]], dtype=float32),\n",
              " '/content/CNN-exercise/test_set/not_tank/google_images_2019-10-03_13h_34m_38s_00000905.jpg': array([[0.]], dtype=float32),\n",
              " '/content/CNN-exercise/test_set/not_tank/google_images_2019-10-03_13h_34m_38s_00000906.jpg': array([[0.]], dtype=float32),\n",
              " '/content/CNN-exercise/test_set/not_tank/google_images_2019-10-03_13h_34m_38s_00000907.jpg': array([[0.]], dtype=float32),\n",
              " '/content/CNN-exercise/test_set/not_tank/google_images_2019-10-03_13h_34m_38s_00000908.jpg': array([[0.]], dtype=float32),\n",
              " '/content/CNN-exercise/test_set/not_tank/google_images_2019-10-03_13h_34m_38s_00000909.jpg': array([[0.]], dtype=float32),\n",
              " '/content/CNN-exercise/test_set/not_tank/google_images_2019-10-03_13h_34m_38s_00000912.jpg': array([[0.]], dtype=float32),\n",
              " '/content/CNN-exercise/test_set/not_tank/google_images_2019-10-03_13h_34m_38s_00000913.jpg': array([[0.]], dtype=float32),\n",
              " '/content/CNN-exercise/test_set/not_tank/google_images_2019-10-03_13h_34m_38s_00000915.jpg': array([[0.]], dtype=float32),\n",
              " '/content/CNN-exercise/test_set/not_tank/google_images_2019-10-03_13h_34m_38s_00000916.jpg': array([[1.]], dtype=float32),\n",
              " '/content/CNN-exercise/test_set/not_tank/google_images_2019-10-03_13h_34m_38s_00000917.jpg': array([[0.]], dtype=float32),\n",
              " '/content/CNN-exercise/test_set/not_tank/google_images_2019-10-03_13h_34m_38s_00000919.jpg': array([[0.]], dtype=float32),\n",
              " '/content/CNN-exercise/test_set/not_tank/google_images_2019-10-03_13h_34m_38s_00000920.jpg': array([[0.]], dtype=float32),\n",
              " '/content/CNN-exercise/test_set/not_tank/google_images_2019-10-03_13h_34m_38s_00000921.jpg': array([[1.]], dtype=float32),\n",
              " '/content/CNN-exercise/test_set/not_tank/google_images_2019-10-03_13h_34m_38s_00000922.jpg': array([[0.]], dtype=float32),\n",
              " '/content/CNN-exercise/test_set/not_tank/google_images_2019-10-03_13h_34m_38s_00000923.jpg': array([[1.]], dtype=float32),\n",
              " '/content/CNN-exercise/test_set/not_tank/google_images_2019-10-03_13h_34m_38s_00000924.jpg': array([[0.]], dtype=float32),\n",
              " '/content/CNN-exercise/test_set/not_tank/google_images_2019-10-03_13h_34m_38s_00000925.jpg': array([[0.]], dtype=float32),\n",
              " '/content/CNN-exercise/test_set/not_tank/google_images_2019-10-03_13h_34m_38s_00000926.jpg': array([[0.]], dtype=float32),\n",
              " '/content/CNN-exercise/test_set/not_tank/google_images_2019-10-03_13h_34m_38s_00000930.jpg': array([[0.]], dtype=float32),\n",
              " '/content/CNN-exercise/test_set/not_tank/google_images_2019-10-03_13h_34m_38s_00000931.jpg': array([[0.]], dtype=float32),\n",
              " '/content/CNN-exercise/test_set/not_tank/google_images_2019-10-03_13h_34m_38s_00000932.jpg': array([[0.]], dtype=float32),\n",
              " '/content/CNN-exercise/test_set/not_tank/google_images_2019-10-03_13h_34m_38s_00000933.jpg': array([[1.]], dtype=float32),\n",
              " '/content/CNN-exercise/test_set/not_tank/google_images_2019-10-03_13h_34m_38s_00000934.jpg': array([[0.]], dtype=float32),\n",
              " '/content/CNN-exercise/test_set/not_tank/google_images_2019-10-03_13h_34m_38s_00000935.jpg': array([[1.]], dtype=float32),\n",
              " '/content/CNN-exercise/test_set/not_tank/google_images_2019-10-03_13h_34m_38s_00000936.jpg': array([[0.]], dtype=float32),\n",
              " '/content/CNN-exercise/test_set/not_tank/google_images_2019-10-03_13h_34m_38s_00000937.jpg': array([[0.]], dtype=float32),\n",
              " '/content/CNN-exercise/test_set/not_tank/google_images_2019-10-03_13h_34m_38s_00000944.jpg': array([[0.]], dtype=float32),\n",
              " '/content/CNN-exercise/test_set/not_tank/google_images_2019-10-03_13h_34m_38s_00000945.jpg': array([[1.2548384e-19]], dtype=float32),\n",
              " '/content/CNN-exercise/test_set/not_tank/google_images_2019-10-03_13h_34m_38s_00000951.jpg': array([[0.]], dtype=float32),\n",
              " '/content/CNN-exercise/test_set/not_tank/google_images_2019-10-03_13h_34m_38s_00000952.jpg': array([[0.]], dtype=float32),\n",
              " '/content/CNN-exercise/test_set/not_tank/google_images_2019-10-03_13h_34m_38s_00000953.jpg': array([[0.]], dtype=float32),\n",
              " '/content/CNN-exercise/test_set/not_tank/google_images_2019-10-03_13h_34m_38s_00000954.jpg': array([[0.]], dtype=float32),\n",
              " '/content/CNN-exercise/test_set/not_tank/google_images_2019-10-03_13h_34m_38s_00000956.jpg': array([[1.]], dtype=float32),\n",
              " '/content/CNN-exercise/test_set/not_tank/google_images_2019-10-03_13h_34m_38s_00000957.jpg': array([[0.]], dtype=float32),\n",
              " '/content/CNN-exercise/test_set/not_tank/google_images_2019-10-03_13h_34m_38s_00000958.jpg': array([[1.]], dtype=float32),\n",
              " '/content/CNN-exercise/test_set/not_tank/google_images_2019-10-03_13h_34m_38s_00000959.jpg': array([[0.]], dtype=float32),\n",
              " '/content/CNN-exercise/test_set/not_tank/google_images_2019-10-03_13h_34m_38s_00000960.jpg': array([[1.]], dtype=float32),\n",
              " '/content/CNN-exercise/test_set/not_tank/google_images_2019-10-03_13h_34m_38s_00000961.jpg': array([[0.]], dtype=float32),\n",
              " '/content/CNN-exercise/test_set/not_tank/google_images_2019-10-03_13h_34m_38s_00000962.jpg': array([[0.]], dtype=float32),\n",
              " '/content/CNN-exercise/test_set/not_tank/google_images_2019-10-03_13h_34m_38s_00000963.jpg': array([[0.]], dtype=float32),\n",
              " '/content/CNN-exercise/test_set/not_tank/google_images_2019-10-03_13h_34m_38s_00000964.jpg': array([[0.]], dtype=float32),\n",
              " '/content/CNN-exercise/test_set/not_tank/google_images_2019-10-03_13h_34m_38s_00000965.jpg': array([[0.]], dtype=float32),\n",
              " '/content/CNN-exercise/test_set/not_tank/google_images_2019-10-03_13h_34m_38s_00000966.jpg': array([[0.]], dtype=float32),\n",
              " '/content/CNN-exercise/test_set/not_tank/google_images_2019-10-03_13h_34m_38s_00000967.jpg': array([[0.]], dtype=float32),\n",
              " '/content/CNN-exercise/test_set/not_tank/google_images_2019-10-03_13h_34m_38s_00000968.jpg': array([[0.]], dtype=float32),\n",
              " '/content/CNN-exercise/test_set/not_tank/google_images_2019-10-03_13h_34m_38s_00000969.jpg': array([[0.]], dtype=float32),\n",
              " '/content/CNN-exercise/test_set/not_tank/google_images_2019-10-03_13h_34m_38s_00000970.jpg': array([[0.]], dtype=float32),\n",
              " '/content/CNN-exercise/test_set/not_tank/google_images_2019-10-03_13h_34m_38s_00000971.jpg': array([[1.]], dtype=float32),\n",
              " '/content/CNN-exercise/test_set/not_tank/google_images_2019-10-03_13h_34m_38s_00000972.jpg': array([[1.]], dtype=float32),\n",
              " '/content/CNN-exercise/test_set/not_tank/google_images_2019-10-03_13h_34m_38s_00000973.jpg': array([[0.]], dtype=float32),\n",
              " '/content/CNN-exercise/test_set/not_tank/google_images_2019-10-03_13h_34m_38s_00000974.jpg': array([[1.]], dtype=float32),\n",
              " '/content/CNN-exercise/test_set/not_tank/google_images_2019-10-03_13h_34m_38s_00000975.jpg': array([[0.]], dtype=float32),\n",
              " '/content/CNN-exercise/test_set/not_tank/google_images_2019-10-03_13h_34m_38s_00000976.jpg': array([[0.]], dtype=float32),\n",
              " '/content/CNN-exercise/test_set/not_tank/google_images_2019-10-03_13h_34m_38s_00000977.jpg': array([[1.]], dtype=float32),\n",
              " '/content/CNN-exercise/test_set/not_tank/google_images_2019-10-03_13h_34m_38s_00000978.jpg': array([[1.]], dtype=float32),\n",
              " '/content/CNN-exercise/test_set/not_tank/google_images_2019-10-03_13h_34m_38s_00000979.jpg': array([[0.]], dtype=float32),\n",
              " '/content/CNN-exercise/test_set/not_tank/google_images_2019-10-03_13h_34m_38s_00000980.jpg': array([[0.]], dtype=float32),\n",
              " '/content/CNN-exercise/test_set/not_tank/google_images_2019-10-03_13h_34m_38s_00000981.jpg': array([[0.]], dtype=float32),\n",
              " '/content/CNN-exercise/test_set/not_tank/google_images_2019-10-03_13h_34m_38s_00000982.jpg': array([[0.]], dtype=float32),\n",
              " '/content/CNN-exercise/test_set/not_tank/google_images_2019-10-03_13h_34m_38s_00000983.jpg': array([[1.]], dtype=float32),\n",
              " '/content/CNN-exercise/test_set/not_tank/google_images_2019-10-03_13h_34m_38s_00000984.jpg': array([[0.]], dtype=float32),\n",
              " '/content/CNN-exercise/test_set/not_tank/google_images_2019-10-03_13h_34m_38s_00000985.jpg': array([[0.]], dtype=float32),\n",
              " '/content/CNN-exercise/test_set/not_tank/google_images_2019-10-03_13h_34m_38s_00000986.jpg': array([[1.]], dtype=float32),\n",
              " '/content/CNN-exercise/test_set/not_tank/google_images_2019-10-03_13h_34m_38s_00000988.jpg': array([[0.]], dtype=float32),\n",
              " '/content/CNN-exercise/test_set/not_tank/google_images_2019-10-03_13h_34m_38s_00000989.jpg': array([[0.]], dtype=float32),\n",
              " '/content/CNN-exercise/test_set/not_tank/google_images_2019-10-03_13h_34m_38s_00000990.jpg': array([[0.]], dtype=float32),\n",
              " '/content/CNN-exercise/test_set/not_tank/google_images_2019-10-03_13h_34m_38s_00000992.jpg': array([[4.1114797e-17]], dtype=float32),\n",
              " '/content/CNN-exercise/test_set/not_tank/google_images_2019-10-03_13h_34m_38s_00001002.jpg': array([[0.]], dtype=float32),\n",
              " '/content/CNN-exercise/test_set/not_tank/google_images_2019-10-03_13h_34m_38s_00001003.jpg': array([[0.]], dtype=float32),\n",
              " '/content/CNN-exercise/test_set/not_tank/google_images_2019-10-03_13h_34m_38s_00001004.jpg': array([[0.]], dtype=float32),\n",
              " '/content/CNN-exercise/test_set/not_tank/google_images_2019-10-03_13h_34m_38s_00001005.jpg': array([[0.]], dtype=float32),\n",
              " '/content/CNN-exercise/test_set/not_tank/google_images_2019-10-03_13h_34m_38s_00001010.jpg': array([[0.]], dtype=float32),\n",
              " '/content/CNN-exercise/test_set/not_tank/google_images_2019-10-03_13h_34m_38s_00001011.jpg': array([[0.]], dtype=float32),\n",
              " '/content/CNN-exercise/test_set/not_tank/google_images_2019-10-03_13h_34m_38s_00001012.jpg': array([[0.]], dtype=float32),\n",
              " '/content/CNN-exercise/test_set/not_tank/google_images_2019-10-03_13h_34m_38s_00001013.jpg': array([[0.]], dtype=float32),\n",
              " '/content/CNN-exercise/test_set/not_tank/google_images_2019-10-03_13h_34m_38s_00001014.jpg': array([[0.]], dtype=float32),\n",
              " '/content/CNN-exercise/test_set/not_tank/google_images_2019-10-03_13h_34m_38s_00001015.jpg': array([[1.]], dtype=float32),\n",
              " '/content/CNN-exercise/test_set/not_tank/google_images_2019-10-03_13h_34m_38s_00001016.jpg': array([[0.]], dtype=float32),\n",
              " '/content/CNN-exercise/test_set/not_tank/google_images_2019-10-03_13h_34m_38s_00001017.jpg': array([[0.]], dtype=float32),\n",
              " '/content/CNN-exercise/test_set/not_tank/google_images_2019-10-03_13h_34m_38s_00001018.jpg': array([[1.]], dtype=float32),\n",
              " '/content/CNN-exercise/test_set/not_tank/google_images_2019-10-03_13h_34m_38s_00001019.jpg': array([[1.]], dtype=float32),\n",
              " '/content/CNN-exercise/test_set/not_tank/google_images_2019-10-03_13h_34m_38s_00001020.jpg': array([[1.]], dtype=float32),\n",
              " '/content/CNN-exercise/test_set/not_tank/google_images_2019-10-03_13h_34m_38s_00001022.jpg': array([[0.]], dtype=float32),\n",
              " '/content/CNN-exercise/test_set/not_tank/google_images_2019-10-03_13h_34m_38s_00001023.jpg': array([[0.]], dtype=float32),\n",
              " '/content/CNN-exercise/test_set/not_tank/google_images_2019-10-03_13h_34m_38s_00001024.jpg': array([[0.]], dtype=float32),\n",
              " '/content/CNN-exercise/test_set/not_tank/google_images_2019-10-03_13h_34m_38s_00001025.jpg': array([[0.]], dtype=float32),\n",
              " '/content/CNN-exercise/test_set/not_tank/google_images_2019-10-03_13h_34m_38s_00001026.jpg': array([[0.]], dtype=float32),\n",
              " '/content/CNN-exercise/test_set/not_tank/google_images_2019-10-03_13h_34m_38s_00001027.jpg': array([[1.]], dtype=float32),\n",
              " '/content/CNN-exercise/test_set/not_tank/google_images_2019-10-03_13h_34m_38s_00001028.jpg': array([[0.]], dtype=float32),\n",
              " '/content/CNN-exercise/test_set/not_tank/google_images_2019-10-03_13h_34m_38s_00001029.jpg': array([[0.]], dtype=float32),\n",
              " '/content/CNN-exercise/test_set/not_tank/google_images_2019-10-03_13h_34m_38s_00001030.jpg': array([[0.]], dtype=float32),\n",
              " '/content/CNN-exercise/test_set/not_tank/google_images_2019-10-03_13h_34m_38s_00001032.jpg': array([[0.]], dtype=float32),\n",
              " '/content/CNN-exercise/test_set/not_tank/google_images_2019-10-03_13h_34m_38s_00001034.jpg': array([[0.]], dtype=float32),\n",
              " '/content/CNN-exercise/test_set/not_tank/google_images_2019-10-03_13h_34m_38s_00001035.jpg': array([[0.]], dtype=float32),\n",
              " '/content/CNN-exercise/test_set/not_tank/google_images_2019-10-03_13h_34m_38s_00001036.jpg': array([[1.]], dtype=float32),\n",
              " '/content/CNN-exercise/test_set/not_tank/google_images_2019-10-03_13h_34m_38s_00001037.jpg': array([[0.]], dtype=float32),\n",
              " '/content/CNN-exercise/test_set/not_tank/google_images_2019-10-03_13h_34m_38s_00001038.jpg': array([[1.]], dtype=float32),\n",
              " '/content/CNN-exercise/test_set/not_tank/google_images_2019-10-03_13h_34m_38s_00001041.jpg': array([[0.]], dtype=float32),\n",
              " '/content/CNN-exercise/test_set/not_tank/google_images_2019-10-03_13h_34m_38s_00001042.jpg': array([[1.]], dtype=float32),\n",
              " '/content/CNN-exercise/test_set/not_tank/google_images_2019-10-03_13h_34m_38s_00001043.jpg': array([[0.]], dtype=float32),\n",
              " '/content/CNN-exercise/test_set/not_tank/google_images_2019-10-03_13h_34m_38s_00001044.jpg': array([[0.]], dtype=float32),\n",
              " '/content/CNN-exercise/test_set/not_tank/google_images_2019-10-03_13h_34m_38s_00001045.jpg': array([[0.]], dtype=float32),\n",
              " '/content/CNN-exercise/test_set/not_tank/google_images_2019-10-03_13h_34m_38s_00001050.jpg': array([[0.]], dtype=float32),\n",
              " '/content/CNN-exercise/test_set/not_tank/google_images_2019-10-03_13h_34m_38s_00001051.jpg': array([[0.]], dtype=float32),\n",
              " '/content/CNN-exercise/test_set/not_tank/google_images_2019-10-03_13h_34m_38s_00001052.jpg': array([[0.]], dtype=float32),\n",
              " '/content/CNN-exercise/test_set/not_tank/google_images_2019-10-03_13h_34m_38s_00001053.jpg': array([[0.]], dtype=float32),\n",
              " '/content/CNN-exercise/test_set/not_tank/google_images_2019-10-03_13h_34m_38s_00001054.jpg': array([[0.]], dtype=float32),\n",
              " '/content/CNN-exercise/test_set/not_tank/google_images_2019-10-03_13h_34m_38s_00001055.jpg': array([[0.]], dtype=float32),\n",
              " '/content/CNN-exercise/test_set/not_tank/google_images_2019-10-03_13h_34m_38s_00001056.jpg': array([[0.]], dtype=float32),\n",
              " '/content/CNN-exercise/test_set/not_tank/google_images_2019-10-03_13h_34m_38s_00001057.jpg': array([[0.]], dtype=float32),\n",
              " '/content/CNN-exercise/test_set/not_tank/google_images_2019-10-03_13h_34m_38s_00001058.jpg': array([[0.]], dtype=float32),\n",
              " '/content/CNN-exercise/test_set/not_tank/google_images_2019-10-03_13h_34m_38s_00001059.jpg': array([[0.]], dtype=float32),\n",
              " '/content/CNN-exercise/test_set/not_tank/google_images_2019-10-03_13h_34m_38s_00001061.jpg': array([[0.]], dtype=float32),\n",
              " '/content/CNN-exercise/test_set/not_tank/google_images_2019-10-03_13h_34m_38s_00001063.jpg': array([[1.]], dtype=float32),\n",
              " '/content/CNN-exercise/test_set/not_tank/google_images_2019-10-03_13h_34m_38s_00001064.jpg': array([[0.]], dtype=float32),\n",
              " '/content/CNN-exercise/test_set/not_tank/google_images_2019-10-03_13h_34m_38s_00001065.jpg': array([[0.]], dtype=float32),\n",
              " '/content/CNN-exercise/test_set/not_tank/google_images_2019-10-03_13h_34m_38s_00001066.jpg': array([[0.]], dtype=float32),\n",
              " '/content/CNN-exercise/test_set/not_tank/google_images_2019-10-03_13h_34m_38s_00001067.jpg': array([[0.]], dtype=float32),\n",
              " '/content/CNN-exercise/test_set/not_tank/google_images_2019-10-03_13h_34m_38s_00001068.jpg': array([[0.]], dtype=float32),\n",
              " '/content/CNN-exercise/test_set/not_tank/google_images_2019-10-03_13h_34m_38s_00001074.jpg': array([[0.]], dtype=float32),\n",
              " '/content/CNN-exercise/test_set/not_tank/google_images_2019-10-03_13h_34m_38s_00001075.jpg': array([[1.]], dtype=float32),\n",
              " '/content/CNN-exercise/test_set/not_tank/google_images_2019-10-03_13h_34m_38s_00001076.jpg': array([[0.]], dtype=float32),\n",
              " '/content/CNN-exercise/test_set/not_tank/google_images_2019-10-03_13h_34m_38s_00001077.jpg': array([[0.]], dtype=float32),\n",
              " '/content/CNN-exercise/test_set/not_tank/google_images_2019-10-03_13h_34m_38s_00001081.jpg': array([[0.]], dtype=float32),\n",
              " '/content/CNN-exercise/test_set/not_tank/google_images_2019-10-03_13h_34m_38s_00001082.jpg': array([[1.]], dtype=float32),\n",
              " '/content/CNN-exercise/test_set/not_tank/google_images_2019-10-03_13h_34m_38s_00001084.jpg': array([[1.]], dtype=float32),\n",
              " '/content/CNN-exercise/test_set/not_tank/google_images_2019-10-03_13h_34m_38s_00001085.jpg': array([[0.]], dtype=float32),\n",
              " '/content/CNN-exercise/test_set/not_tank/google_images_2019-10-03_13h_34m_38s_00001089.jpg': array([[0.]], dtype=float32),\n",
              " '/content/CNN-exercise/test_set/not_tank/google_images_2019-10-03_13h_34m_38s_00001090.jpg': array([[0.]], dtype=float32),\n",
              " '/content/CNN-exercise/test_set/not_tank/google_images_2019-10-03_13h_34m_38s_00001091.jpg': array([[0.]], dtype=float32),\n",
              " '/content/CNN-exercise/test_set/not_tank/google_images_2019-10-03_13h_34m_38s_00001093.jpg': array([[0.]], dtype=float32),\n",
              " '/content/CNN-exercise/test_set/not_tank/google_images_2019-10-03_13h_34m_38s_00001094.jpg': array([[1.]], dtype=float32),\n",
              " '/content/CNN-exercise/test_set/not_tank/google_images_2019-10-03_13h_34m_38s_00001095.jpg': array([[1.]], dtype=float32),\n",
              " '/content/CNN-exercise/test_set/not_tank/google_images_2019-10-03_13h_34m_38s_00001096.jpg': array([[1.]], dtype=float32),\n",
              " '/content/CNN-exercise/test_set/not_tank/google_images_2019-10-03_13h_34m_38s_00001097.jpg': array([[1.]], dtype=float32),\n",
              " '/content/CNN-exercise/test_set/not_tank/google_images_2019-10-03_13h_34m_38s_00001098.jpg': array([[0.]], dtype=float32),\n",
              " '/content/CNN-exercise/test_set/not_tank/google_images_2019-10-03_13h_34m_38s_00001099.jpg': array([[0.]], dtype=float32),\n",
              " '/content/CNN-exercise/test_set/not_tank/google_images_2019-10-03_13h_34m_38s_00001100.jpg': array([[0.]], dtype=float32),\n",
              " '/content/CNN-exercise/test_set/not_tank/google_images_2019-10-03_13h_34m_38s_00001102.jpg': array([[1.]], dtype=float32),\n",
              " '/content/CNN-exercise/test_set/not_tank/google_images_2019-10-03_13h_34m_38s_00001103.jpg': array([[1.]], dtype=float32),\n",
              " '/content/CNN-exercise/test_set/not_tank/google_images_2019-10-03_13h_34m_38s_00001104.jpg': array([[0.]], dtype=float32),\n",
              " '/content/CNN-exercise/test_set/not_tank/google_images_2019-10-03_13h_34m_38s_00001110.jpg': array([[0.]], dtype=float32),\n",
              " '/content/CNN-exercise/test_set/not_tank/google_images_2019-10-03_13h_34m_38s_00001113.jpg': array([[1.]], dtype=float32),\n",
              " '/content/CNN-exercise/test_set/not_tank/google_images_2019-10-03_13h_34m_38s_00001114.jpg': array([[0.]], dtype=float32),\n",
              " '/content/CNN-exercise/test_set/not_tank/google_images_2019-10-03_13h_34m_38s_00001115.jpg': array([[0.]], dtype=float32),\n",
              " '/content/CNN-exercise/test_set/not_tank/google_images_2019-10-03_13h_34m_38s_00001116.jpg': array([[0.]], dtype=float32),\n",
              " '/content/CNN-exercise/test_set/not_tank/google_images_2019-10-03_13h_34m_38s_00001117.jpg': array([[0.]], dtype=float32),\n",
              " '/content/CNN-exercise/test_set/not_tank/google_images_2019-10-03_13h_34m_38s_00001123.jpg': array([[0.]], dtype=float32),\n",
              " '/content/CNN-exercise/test_set/not_tank/google_images_2019-10-03_13h_34m_38s_00001124.jpg': array([[0.]], dtype=float32),\n",
              " '/content/CNN-exercise/test_set/not_tank/google_images_2019-10-03_13h_34m_38s_00001125.jpg': array([[0.]], dtype=float32),\n",
              " '/content/CNN-exercise/test_set/not_tank/google_images_2019-10-03_13h_34m_38s_00001126.jpg': array([[1.]], dtype=float32),\n",
              " '/content/CNN-exercise/test_set/not_tank/google_images_2019-10-03_13h_34m_38s_00001127.jpg': array([[1.]], dtype=float32),\n",
              " '/content/CNN-exercise/test_set/not_tank/google_images_2019-10-03_13h_34m_38s_00001128.jpg': array([[0.]], dtype=float32),\n",
              " '/content/CNN-exercise/test_set/not_tank/google_images_2019-10-03_13h_34m_38s_00001129.jpg': array([[0.]], dtype=float32),\n",
              " '/content/CNN-exercise/test_set/not_tank/google_images_2019-10-03_13h_34m_38s_00001130.jpg': array([[1.]], dtype=float32),\n",
              " '/content/CNN-exercise/test_set/not_tank/google_images_2019-10-03_13h_34m_38s_00001131.jpg': array([[0.]], dtype=float32),\n",
              " '/content/CNN-exercise/test_set/not_tank/google_images_2019-10-03_13h_34m_38s_00001132.jpg': array([[0.]], dtype=float32),\n",
              " '/content/CNN-exercise/test_set/not_tank/google_images_2019-10-03_13h_34m_38s_00001133.jpg': array([[0.]], dtype=float32),\n",
              " '/content/CNN-exercise/test_set/not_tank/google_images_2019-10-03_13h_34m_38s_00001134.jpg': array([[0.]], dtype=float32),\n",
              " '/content/CNN-exercise/test_set/not_tank/google_images_2019-10-03_13h_34m_38s_00001135.jpg': array([[0.]], dtype=float32),\n",
              " '/content/CNN-exercise/test_set/not_tank/google_images_2019-10-03_13h_34m_38s_00001136.jpg': array([[0.]], dtype=float32),\n",
              " '/content/CNN-exercise/test_set/not_tank/google_images_2019-10-03_13h_34m_38s_00001137.jpg': array([[0.]], dtype=float32),\n",
              " '/content/CNN-exercise/test_set/not_tank/google_images_2019-10-03_13h_34m_38s_00001138.jpg': array([[0.]], dtype=float32),\n",
              " '/content/CNN-exercise/test_set/not_tank/google_images_2019-10-03_13h_34m_38s_00001139.jpg': array([[0.]], dtype=float32),\n",
              " '/content/CNN-exercise/test_set/not_tank/google_images_2019-10-03_13h_34m_38s_00001140.jpg': array([[0.]], dtype=float32),\n",
              " '/content/CNN-exercise/test_set/not_tank/google_images_2019-10-03_13h_34m_38s_00001141.jpg': array([[1.]], dtype=float32),\n",
              " '/content/CNN-exercise/test_set/not_tank/google_images_2019-10-03_13h_34m_38s_00001142.jpg': array([[1.]], dtype=float32),\n",
              " '/content/CNN-exercise/test_set/not_tank/google_images_2019-10-03_13h_34m_38s_00001143.jpg': array([[0.]], dtype=float32),\n",
              " '/content/CNN-exercise/test_set/not_tank/google_images_2019-10-03_13h_34m_38s_00001144.jpg': array([[0.]], dtype=float32),\n",
              " '/content/CNN-exercise/test_set/not_tank/google_images_2019-10-03_13h_34m_38s_00001145.jpg': array([[0.]], dtype=float32),\n",
              " '/content/CNN-exercise/test_set/not_tank/google_images_2019-10-03_13h_34m_38s_00001146.jpg': array([[0.]], dtype=float32),\n",
              " '/content/CNN-exercise/test_set/not_tank/google_images_2019-10-03_13h_34m_38s_00001147.jpg': array([[1.]], dtype=float32),\n",
              " '/content/CNN-exercise/test_set/not_tank/google_images_2019-10-03_13h_34m_38s_00001148.jpg': array([[0.]], dtype=float32),\n",
              " '/content/CNN-exercise/test_set/not_tank/google_images_2019-10-03_13h_34m_38s_00001149.jpg': array([[0.]], dtype=float32),\n",
              " '/content/CNN-exercise/test_set/not_tank/google_images_2019-10-03_13h_34m_38s_00001150.jpg': array([[0.]], dtype=float32),\n",
              " '/content/CNN-exercise/test_set/not_tank/google_images_2019-10-03_13h_34m_38s_00001151.jpg': array([[1.]], dtype=float32),\n",
              " '/content/CNN-exercise/test_set/not_tank/google_images_2019-10-03_13h_34m_38s_00001152.jpg': array([[1.]], dtype=float32),\n",
              " '/content/CNN-exercise/test_set/not_tank/google_images_2019-10-03_13h_34m_38s_00001153.jpg': array([[0.]], dtype=float32),\n",
              " '/content/CNN-exercise/test_set/not_tank/google_images_2019-10-03_13h_34m_38s_00001154.jpg': array([[1.]], dtype=float32),\n",
              " '/content/CNN-exercise/test_set/not_tank/google_images_2019-10-03_13h_34m_38s_00001155.jpg': array([[1.]], dtype=float32),\n",
              " '/content/CNN-exercise/test_set/not_tank/google_images_2019-10-03_13h_34m_38s_00001156.jpg': array([[0.]], dtype=float32),\n",
              " '/content/CNN-exercise/test_set/not_tank/google_images_2019-10-03_13h_34m_38s_00001157.jpg': array([[0.]], dtype=float32),\n",
              " '/content/CNN-exercise/test_set/not_tank/google_images_2019-10-03_13h_34m_38s_00001158.jpg': array([[0.]], dtype=float32),\n",
              " '/content/CNN-exercise/test_set/not_tank/google_images_2019-10-03_13h_34m_38s_00001159.jpg': array([[1.]], dtype=float32),\n",
              " '/content/CNN-exercise/test_set/not_tank/google_images_2019-10-03_13h_34m_38s_00001164.jpg': array([[0.]], dtype=float32),\n",
              " '/content/CNN-exercise/test_set/not_tank/google_images_2019-10-03_13h_34m_38s_00001165.jpg': array([[0.]], dtype=float32),\n",
              " '/content/CNN-exercise/test_set/not_tank/google_images_2019-10-03_13h_34m_38s_00001166.jpg': array([[0.]], dtype=float32),\n",
              " '/content/CNN-exercise/test_set/not_tank/google_images_2019-10-03_13h_34m_38s_00001167.jpg': array([[0.]], dtype=float32),\n",
              " '/content/CNN-exercise/test_set/not_tank/google_images_2019-10-03_13h_34m_38s_00001170.jpg': array([[0.]], dtype=float32),\n",
              " '/content/CNN-exercise/test_set/not_tank/google_images_2019-10-03_13h_34m_38s_00001171.jpg': array([[0.]], dtype=float32),\n",
              " '/content/CNN-exercise/test_set/not_tank/google_images_2019-10-03_13h_34m_38s_00001172.jpg': array([[0.]], dtype=float32),\n",
              " '/content/CNN-exercise/test_set/not_tank/google_images_2019-10-03_13h_34m_38s_00001173.jpg': array([[0.]], dtype=float32),\n",
              " '/content/CNN-exercise/test_set/not_tank/google_images_2019-10-03_13h_34m_38s_00001174.jpg': array([[0.]], dtype=float32),\n",
              " '/content/CNN-exercise/test_set/not_tank/google_images_2019-10-03_13h_34m_38s_00001176.jpg': array([[0.]], dtype=float32),\n",
              " '/content/CNN-exercise/test_set/not_tank/google_images_2019-10-03_13h_34m_38s_00001177.jpg': array([[0.]], dtype=float32),\n",
              " '/content/CNN-exercise/test_set/not_tank/google_images_2019-10-03_13h_34m_38s_00001178.jpg': array([[0.]], dtype=float32),\n",
              " '/content/CNN-exercise/test_set/not_tank/google_images_2019-10-03_13h_34m_38s_00001179.jpg': array([[0.]], dtype=float32),\n",
              " '/content/CNN-exercise/test_set/tank/google_images_2019-10-03_14h_18m_39s_00001507.jpg': array([[1.]], dtype=float32),\n",
              " '/content/CNN-exercise/test_set/tank/google_images_2019-10-03_14h_18m_39s_00001508.jpg': array([[1.]], dtype=float32),\n",
              " '/content/CNN-exercise/test_set/tank/google_images_2019-10-03_14h_18m_39s_00001509.jpg': array([[1.]], dtype=float32),\n",
              " '/content/CNN-exercise/test_set/tank/google_images_2019-10-03_14h_18m_39s_00001510.jpg': array([[1.]], dtype=float32),\n",
              " '/content/CNN-exercise/test_set/tank/google_images_2019-10-03_14h_18m_39s_00001511.jpg': array([[1.]], dtype=float32),\n",
              " '/content/CNN-exercise/test_set/tank/google_images_2019-10-03_14h_18m_39s_00001512.jpg': array([[1.]], dtype=float32),\n",
              " '/content/CNN-exercise/test_set/tank/google_images_2019-10-03_14h_18m_39s_00001513.jpg': array([[1.]], dtype=float32),\n",
              " '/content/CNN-exercise/test_set/tank/google_images_2019-10-03_14h_18m_39s_00001514.jpg': array([[1.]], dtype=float32),\n",
              " '/content/CNN-exercise/test_set/tank/google_images_2019-10-03_14h_18m_39s_00001515.jpg': array([[1.]], dtype=float32),\n",
              " '/content/CNN-exercise/test_set/tank/google_images_2019-10-03_14h_18m_39s_00001516.jpg': array([[1.]], dtype=float32),\n",
              " '/content/CNN-exercise/test_set/tank/google_images_2019-10-03_14h_18m_39s_00001517.jpg': array([[1.]], dtype=float32),\n",
              " '/content/CNN-exercise/test_set/tank/google_images_2019-10-03_14h_18m_39s_00001518.jpg': array([[1.]], dtype=float32),\n",
              " '/content/CNN-exercise/test_set/tank/google_images_2019-10-03_14h_18m_39s_00001519.jpg': array([[1.]], dtype=float32),\n",
              " '/content/CNN-exercise/test_set/tank/google_images_2019-10-03_14h_18m_39s_00001520.jpg': array([[1.]], dtype=float32),\n",
              " '/content/CNN-exercise/test_set/tank/google_images_2019-10-03_14h_18m_39s_00001521.jpg': array([[1.]], dtype=float32),\n",
              " '/content/CNN-exercise/test_set/tank/google_images_2019-10-03_14h_18m_39s_00001522.jpg': array([[1.]], dtype=float32),\n",
              " '/content/CNN-exercise/test_set/tank/google_images_2019-10-03_14h_18m_39s_00001523.jpg': array([[1.]], dtype=float32),\n",
              " '/content/CNN-exercise/test_set/tank/google_images_2019-10-03_14h_18m_39s_00001524.jpg': array([[1.]], dtype=float32),\n",
              " '/content/CNN-exercise/test_set/tank/google_images_2019-10-03_14h_18m_39s_00001525.jpg': array([[1.]], dtype=float32),\n",
              " '/content/CNN-exercise/test_set/tank/google_images_2019-10-03_14h_18m_39s_00001526.jpg': array([[1.]], dtype=float32),\n",
              " '/content/CNN-exercise/test_set/tank/google_images_2019-10-03_14h_18m_39s_00001527.jpg': array([[1.]], dtype=float32),\n",
              " '/content/CNN-exercise/test_set/tank/google_images_2019-10-03_14h_18m_39s_00001528.jpg': array([[1.]], dtype=float32),\n",
              " '/content/CNN-exercise/test_set/tank/google_images_2019-10-03_14h_18m_39s_00001529.jpg': array([[1.]], dtype=float32),\n",
              " '/content/CNN-exercise/test_set/tank/google_images_2019-10-03_14h_18m_39s_00001531.jpg': array([[1.]], dtype=float32),\n",
              " '/content/CNN-exercise/test_set/tank/google_images_2019-10-03_14h_18m_39s_00001532.jpg': array([[1.]], dtype=float32),\n",
              " '/content/CNN-exercise/test_set/tank/google_images_2019-10-03_14h_18m_39s_00001533.jpg': array([[1.]], dtype=float32),\n",
              " '/content/CNN-exercise/test_set/tank/google_images_2019-10-03_14h_18m_39s_00001534.jpg': array([[1.]], dtype=float32),\n",
              " '/content/CNN-exercise/test_set/tank/google_images_2019-10-03_14h_18m_39s_00001535.jpg': array([[1.]], dtype=float32),\n",
              " '/content/CNN-exercise/test_set/tank/google_images_2019-10-03_14h_18m_39s_00001536.jpg': array([[1.]], dtype=float32),\n",
              " '/content/CNN-exercise/test_set/tank/google_images_2019-10-03_14h_18m_39s_00001537.jpg': array([[0.]], dtype=float32),\n",
              " '/content/CNN-exercise/test_set/tank/google_images_2019-10-03_14h_18m_39s_00001538.jpg': array([[1.]], dtype=float32),\n",
              " '/content/CNN-exercise/test_set/tank/google_images_2019-10-03_14h_18m_39s_00001539.jpg': array([[1.]], dtype=float32),\n",
              " '/content/CNN-exercise/test_set/tank/google_images_2019-10-03_14h_18m_39s_00001540.jpg': array([[1.]], dtype=float32),\n",
              " '/content/CNN-exercise/test_set/tank/google_images_2019-10-03_14h_18m_39s_00001542.jpg': array([[1.]], dtype=float32),\n",
              " '/content/CNN-exercise/test_set/tank/google_images_2019-10-03_14h_18m_39s_00001543.jpg': array([[1.]], dtype=float32),\n",
              " '/content/CNN-exercise/test_set/tank/google_images_2019-10-03_14h_18m_39s_00001544.jpg': array([[1.]], dtype=float32),\n",
              " '/content/CNN-exercise/test_set/tank/google_images_2019-10-03_14h_18m_39s_00001545.jpg': array([[1.]], dtype=float32),\n",
              " '/content/CNN-exercise/test_set/tank/google_images_2019-10-03_14h_18m_39s_00001546.jpg': array([[1.]], dtype=float32),\n",
              " '/content/CNN-exercise/test_set/tank/google_images_2019-10-03_14h_18m_39s_00001547.jpg': array([[1.]], dtype=float32),\n",
              " '/content/CNN-exercise/test_set/tank/google_images_2019-10-03_14h_18m_39s_00001548.jpg': array([[1.]], dtype=float32),\n",
              " '/content/CNN-exercise/test_set/tank/google_images_2019-10-03_14h_18m_39s_00001549.jpg': array([[1.]], dtype=float32),\n",
              " '/content/CNN-exercise/test_set/tank/google_images_2019-10-03_14h_18m_39s_00001550.jpg': array([[1.]], dtype=float32),\n",
              " '/content/CNN-exercise/test_set/tank/google_images_2019-10-03_14h_18m_39s_00001551.jpg': array([[0.]], dtype=float32),\n",
              " '/content/CNN-exercise/test_set/tank/google_images_2019-10-03_14h_18m_39s_00001552.jpg': array([[1.]], dtype=float32),\n",
              " '/content/CNN-exercise/test_set/tank/google_images_2019-10-03_14h_18m_39s_00001553.jpg': array([[1.]], dtype=float32),\n",
              " '/content/CNN-exercise/test_set/tank/google_images_2019-10-03_14h_18m_39s_00001554.jpg': array([[1.]], dtype=float32),\n",
              " '/content/CNN-exercise/test_set/tank/google_images_2019-10-03_14h_18m_39s_00001555.jpg': array([[1.]], dtype=float32),\n",
              " '/content/CNN-exercise/test_set/tank/google_images_2019-10-03_14h_18m_39s_00001556.jpg': array([[1.]], dtype=float32),\n",
              " '/content/CNN-exercise/test_set/tank/google_images_2019-10-03_14h_18m_39s_00001557.jpg': array([[1.]], dtype=float32),\n",
              " '/content/CNN-exercise/test_set/tank/google_images_2019-10-03_14h_18m_39s_00001558.jpg': array([[1.]], dtype=float32),\n",
              " '/content/CNN-exercise/test_set/tank/google_images_2019-10-03_14h_18m_39s_00001559.jpg': array([[1.]], dtype=float32),\n",
              " '/content/CNN-exercise/test_set/tank/google_images_2019-10-03_14h_18m_39s_00001560.jpg': array([[1.]], dtype=float32),\n",
              " '/content/CNN-exercise/test_set/tank/google_images_2019-10-03_14h_18m_39s_00001561.jpg': array([[1.]], dtype=float32),\n",
              " '/content/CNN-exercise/test_set/tank/google_images_2019-10-03_14h_18m_39s_00001562.jpg': array([[1.]], dtype=float32),\n",
              " '/content/CNN-exercise/test_set/tank/google_images_2019-10-03_14h_18m_39s_00001563.jpg': array([[1.]], dtype=float32),\n",
              " '/content/CNN-exercise/test_set/tank/google_images_2019-10-03_14h_18m_39s_00001564.jpg': array([[1.]], dtype=float32),\n",
              " '/content/CNN-exercise/test_set/tank/google_images_2019-10-03_14h_18m_39s_00001569.jpg': array([[1.]], dtype=float32),\n",
              " '/content/CNN-exercise/test_set/tank/google_images_2019-10-03_14h_18m_39s_00001570.jpg': array([[1.]], dtype=float32),\n",
              " '/content/CNN-exercise/test_set/tank/google_images_2019-10-03_14h_18m_39s_00001571.jpg': array([[1.]], dtype=float32),\n",
              " '/content/CNN-exercise/test_set/tank/google_images_2019-10-03_14h_18m_39s_00001572.jpg': array([[1.]], dtype=float32),\n",
              " '/content/CNN-exercise/test_set/tank/google_images_2019-10-03_14h_18m_39s_00001573.jpg': array([[1.]], dtype=float32),\n",
              " '/content/CNN-exercise/test_set/tank/google_images_2019-10-03_14h_18m_39s_00001574.jpg': array([[1.]], dtype=float32),\n",
              " '/content/CNN-exercise/test_set/tank/google_images_2019-10-03_14h_18m_39s_00001575.jpg': array([[1.]], dtype=float32),\n",
              " '/content/CNN-exercise/test_set/tank/google_images_2019-10-03_14h_18m_39s_00001576.jpg': array([[1.]], dtype=float32),\n",
              " '/content/CNN-exercise/test_set/tank/google_images_2019-10-03_14h_18m_39s_00001577.jpg': array([[1.]], dtype=float32),\n",
              " '/content/CNN-exercise/test_set/tank/google_images_2019-10-03_14h_18m_39s_00001578.jpg': array([[1.]], dtype=float32),\n",
              " '/content/CNN-exercise/test_set/tank/google_images_2019-10-03_14h_18m_39s_00001583.jpg': array([[1.]], dtype=float32),\n",
              " '/content/CNN-exercise/test_set/tank/google_images_2019-10-03_14h_18m_39s_00001585.jpg': array([[1.]], dtype=float32),\n",
              " '/content/CNN-exercise/test_set/tank/google_images_2019-10-03_14h_18m_39s_00001586.jpg': array([[1.]], dtype=float32),\n",
              " '/content/CNN-exercise/test_set/tank/google_images_2019-10-03_14h_18m_39s_00001587.jpg': array([[2.6479834e-27]], dtype=float32),\n",
              " '/content/CNN-exercise/test_set/tank/google_images_2019-10-03_14h_18m_39s_00001588.jpg': array([[1.]], dtype=float32),\n",
              " '/content/CNN-exercise/test_set/tank/google_images_2019-10-03_14h_18m_39s_00001589.jpg': array([[1.]], dtype=float32),\n",
              " '/content/CNN-exercise/test_set/tank/google_images_2019-10-03_14h_18m_39s_00001590.jpg': array([[1.]], dtype=float32),\n",
              " '/content/CNN-exercise/test_set/tank/google_images_2019-10-03_14h_18m_39s_00001591.jpg': array([[1.]], dtype=float32),\n",
              " '/content/CNN-exercise/test_set/tank/google_images_2019-10-03_14h_18m_39s_00001592.jpg': array([[1.]], dtype=float32),\n",
              " '/content/CNN-exercise/test_set/tank/google_images_2019-10-03_14h_18m_39s_00001593.jpg': array([[1.]], dtype=float32),\n",
              " '/content/CNN-exercise/test_set/tank/google_images_2019-10-03_14h_18m_39s_00001595.jpg': array([[1.]], dtype=float32),\n",
              " '/content/CNN-exercise/test_set/tank/google_images_2019-10-03_14h_18m_39s_00001596.jpg': array([[1.]], dtype=float32),\n",
              " '/content/CNN-exercise/test_set/tank/google_images_2019-10-03_14h_18m_39s_00001597.jpg': array([[1.]], dtype=float32),\n",
              " '/content/CNN-exercise/test_set/tank/google_images_2019-10-03_14h_18m_39s_00001598.jpg': array([[1.]], dtype=float32),\n",
              " '/content/CNN-exercise/test_set/tank/google_images_2019-10-03_14h_18m_39s_00001599.jpg': array([[1.]], dtype=float32),\n",
              " '/content/CNN-exercise/test_set/tank/google_images_2019-10-03_14h_18m_39s_00001600.jpg': array([[1.]], dtype=float32),\n",
              " '/content/CNN-exercise/test_set/tank/google_images_2019-10-03_14h_18m_39s_00001601.jpg': array([[1.]], dtype=float32),\n",
              " '/content/CNN-exercise/test_set/tank/google_images_2019-10-03_14h_18m_39s_00001602.jpg': array([[1.]], dtype=float32),\n",
              " '/content/CNN-exercise/test_set/tank/google_images_2019-10-03_14h_18m_39s_00001603.jpg': array([[1.]], dtype=float32),\n",
              " '/content/CNN-exercise/test_set/tank/google_images_2019-10-03_14h_18m_39s_00001604.jpg': array([[1.]], dtype=float32),\n",
              " '/content/CNN-exercise/test_set/tank/google_images_2019-10-03_14h_18m_39s_00001605.jpg': array([[1.]], dtype=float32),\n",
              " '/content/CNN-exercise/test_set/tank/google_images_2019-10-03_14h_18m_39s_00001606.jpg': array([[1.]], dtype=float32),\n",
              " '/content/CNN-exercise/test_set/tank/google_images_2019-10-03_14h_18m_39s_00001607.jpg': array([[1.]], dtype=float32),\n",
              " '/content/CNN-exercise/test_set/tank/google_images_2019-10-03_14h_18m_39s_00001608.jpg': array([[1.]], dtype=float32),\n",
              " '/content/CNN-exercise/test_set/tank/google_images_2019-10-03_14h_18m_39s_00001609.jpg': array([[0.]], dtype=float32),\n",
              " '/content/CNN-exercise/test_set/tank/google_images_2019-10-03_14h_18m_39s_00001610.jpg': array([[1.]], dtype=float32),\n",
              " '/content/CNN-exercise/test_set/tank/google_images_2019-10-03_14h_18m_39s_00001611.jpg': array([[1.]], dtype=float32),\n",
              " '/content/CNN-exercise/test_set/tank/google_images_2019-10-03_14h_18m_39s_00001612.jpg': array([[1.]], dtype=float32),\n",
              " '/content/CNN-exercise/test_set/tank/google_images_2019-10-03_14h_18m_39s_00001613.jpg': array([[1.]], dtype=float32),\n",
              " '/content/CNN-exercise/test_set/tank/google_images_2019-10-03_14h_18m_39s_00001614.jpg': array([[1.]], dtype=float32),\n",
              " '/content/CNN-exercise/test_set/tank/google_images_2019-10-03_14h_18m_39s_00001615.jpg': array([[1.]], dtype=float32),\n",
              " '/content/CNN-exercise/test_set/tank/google_images_2019-10-03_14h_18m_39s_00001616.jpg': array([[0.]], dtype=float32),\n",
              " '/content/CNN-exercise/test_set/tank/google_images_2019-10-03_14h_18m_39s_00001617.jpg': array([[1.]], dtype=float32),\n",
              " '/content/CNN-exercise/test_set/tank/google_images_2019-10-03_14h_18m_39s_00001618.jpg': array([[1.]], dtype=float32),\n",
              " '/content/CNN-exercise/test_set/tank/google_images_2019-10-03_14h_18m_39s_00001619.jpg': array([[1.]], dtype=float32),\n",
              " '/content/CNN-exercise/test_set/tank/google_images_2019-10-03_14h_18m_39s_00001620.jpg': array([[1.]], dtype=float32),\n",
              " '/content/CNN-exercise/test_set/tank/google_images_2019-10-03_14h_18m_39s_00001621.jpg': array([[1.]], dtype=float32),\n",
              " '/content/CNN-exercise/test_set/tank/google_images_2019-10-03_14h_18m_39s_00001622.jpg': array([[1.]], dtype=float32),\n",
              " '/content/CNN-exercise/test_set/tank/google_images_2019-10-03_14h_18m_39s_00001623.jpg': array([[1.]], dtype=float32),\n",
              " '/content/CNN-exercise/test_set/tank/google_images_2019-10-03_14h_18m_39s_00001624.jpg': array([[1.]], dtype=float32),\n",
              " '/content/CNN-exercise/test_set/tank/google_images_2019-10-03_14h_18m_39s_00001625.jpg': array([[1.]], dtype=float32),\n",
              " '/content/CNN-exercise/test_set/tank/google_images_2019-10-03_14h_18m_39s_00001626.jpg': array([[1.]], dtype=float32),\n",
              " '/content/CNN-exercise/test_set/tank/google_images_2019-10-03_14h_18m_39s_00001627.jpg': array([[1.]], dtype=float32),\n",
              " '/content/CNN-exercise/test_set/tank/google_images_2019-10-03_14h_18m_39s_00001628.jpg': array([[1.]], dtype=float32),\n",
              " '/content/CNN-exercise/test_set/tank/google_images_2019-10-03_14h_18m_39s_00001629.jpg': array([[1.]], dtype=float32),\n",
              " '/content/CNN-exercise/test_set/tank/google_images_2019-10-03_14h_18m_39s_00001630.jpg': array([[1.]], dtype=float32),\n",
              " '/content/CNN-exercise/test_set/tank/google_images_2019-10-03_14h_18m_39s_00001631.jpg': array([[1.]], dtype=float32),\n",
              " '/content/CNN-exercise/test_set/tank/google_images_2019-10-03_14h_18m_39s_00001632.jpg': array([[1.]], dtype=float32),\n",
              " '/content/CNN-exercise/test_set/tank/google_images_2019-10-03_14h_18m_39s_00001633.jpg': array([[0.]], dtype=float32),\n",
              " '/content/CNN-exercise/test_set/tank/google_images_2019-10-03_14h_18m_39s_00001634.jpg': array([[1.]], dtype=float32),\n",
              " '/content/CNN-exercise/test_set/tank/google_images_2019-10-03_14h_18m_39s_00001635.jpg': array([[1.]], dtype=float32),\n",
              " '/content/CNN-exercise/test_set/tank/google_images_2019-10-03_14h_18m_39s_00001636.jpg': array([[1.]], dtype=float32),\n",
              " '/content/CNN-exercise/test_set/tank/google_images_2019-10-03_14h_18m_39s_00001637.jpg': array([[1.]], dtype=float32),\n",
              " '/content/CNN-exercise/test_set/tank/google_images_2019-10-03_14h_18m_39s_00001638.jpg': array([[1.]], dtype=float32),\n",
              " '/content/CNN-exercise/test_set/tank/google_images_2019-10-03_14h_18m_39s_00001639.jpg': array([[1.]], dtype=float32),\n",
              " '/content/CNN-exercise/test_set/tank/google_images_2019-10-03_14h_18m_39s_00001640.jpg': array([[1.]], dtype=float32),\n",
              " '/content/CNN-exercise/test_set/tank/google_images_2019-10-03_14h_18m_39s_00001641.jpg': array([[1.]], dtype=float32),\n",
              " '/content/CNN-exercise/test_set/tank/google_images_2019-10-03_14h_18m_39s_00001642.jpg': array([[1.]], dtype=float32),\n",
              " '/content/CNN-exercise/test_set/tank/google_images_2019-10-03_14h_18m_39s_00001643.jpg': array([[1.]], dtype=float32),\n",
              " '/content/CNN-exercise/test_set/tank/google_images_2019-10-03_14h_18m_39s_00001645.jpg': array([[0.]], dtype=float32),\n",
              " '/content/CNN-exercise/test_set/tank/google_images_2019-10-03_14h_18m_39s_00001646.jpg': array([[1.]], dtype=float32),\n",
              " '/content/CNN-exercise/test_set/tank/google_images_2019-10-03_14h_18m_39s_00001647.jpg': array([[1.]], dtype=float32),\n",
              " '/content/CNN-exercise/test_set/tank/google_images_2019-10-03_14h_18m_39s_00001648.jpg': array([[1.]], dtype=float32),\n",
              " '/content/CNN-exercise/test_set/tank/google_images_2019-10-03_14h_18m_39s_00001649.jpg': array([[1.]], dtype=float32),\n",
              " '/content/CNN-exercise/test_set/tank/google_images_2019-10-03_14h_18m_39s_00001650.jpg': array([[1.]], dtype=float32),\n",
              " '/content/CNN-exercise/test_set/tank/google_images_2019-10-03_14h_18m_39s_00001651.jpg': array([[1.]], dtype=float32),\n",
              " '/content/CNN-exercise/test_set/tank/google_images_2019-10-03_14h_18m_39s_00001652.jpg': array([[1.]], dtype=float32),\n",
              " '/content/CNN-exercise/test_set/tank/google_images_2019-10-03_14h_18m_39s_00001653.jpg': array([[1.]], dtype=float32),\n",
              " '/content/CNN-exercise/test_set/tank/google_images_2019-10-03_14h_18m_39s_00001654.jpg': array([[1.]], dtype=float32),\n",
              " '/content/CNN-exercise/test_set/tank/google_images_2019-10-03_14h_18m_39s_00001655.jpg': array([[1.]], dtype=float32),\n",
              " '/content/CNN-exercise/test_set/tank/google_images_2019-10-03_14h_18m_39s_00001656.jpg': array([[1.]], dtype=float32),\n",
              " '/content/CNN-exercise/test_set/tank/google_images_2019-10-03_14h_18m_39s_00001657.jpg': array([[0.]], dtype=float32),\n",
              " '/content/CNN-exercise/test_set/tank/google_images_2019-10-03_14h_18m_39s_00001658.jpg': array([[1.]], dtype=float32),\n",
              " '/content/CNN-exercise/test_set/tank/google_images_2019-10-03_14h_18m_39s_00001659.jpg': array([[0.]], dtype=float32),\n",
              " '/content/CNN-exercise/test_set/tank/google_images_2019-10-03_14h_18m_39s_00001660.jpg': array([[1.]], dtype=float32),\n",
              " '/content/CNN-exercise/test_set/tank/google_images_2019-10-03_14h_18m_39s_00001661.jpg': array([[1.]], dtype=float32),\n",
              " '/content/CNN-exercise/test_set/tank/google_images_2019-10-03_14h_18m_39s_00001662.jpg': array([[1.]], dtype=float32),\n",
              " '/content/CNN-exercise/test_set/tank/google_images_2019-10-03_14h_18m_39s_00001663.jpg': array([[1.]], dtype=float32),\n",
              " '/content/CNN-exercise/test_set/tank/google_images_2019-10-03_14h_18m_39s_00001664.jpg': array([[1.]], dtype=float32),\n",
              " '/content/CNN-exercise/test_set/tank/google_images_2019-10-03_14h_18m_39s_00001665.jpg': array([[1.]], dtype=float32),\n",
              " '/content/CNN-exercise/test_set/tank/google_images_2019-10-03_14h_18m_39s_00001666.jpg': array([[0.]], dtype=float32),\n",
              " '/content/CNN-exercise/test_set/tank/google_images_2019-10-03_14h_18m_39s_00001667.jpg': array([[1.]], dtype=float32),\n",
              " '/content/CNN-exercise/test_set/tank/google_images_2019-10-03_14h_18m_39s_00001668.jpg': array([[1.]], dtype=float32),\n",
              " '/content/CNN-exercise/test_set/tank/google_images_2019-10-03_14h_18m_39s_00001669.jpg': array([[1.]], dtype=float32),\n",
              " '/content/CNN-exercise/test_set/tank/google_images_2019-10-03_14h_18m_39s_00001670.jpg': array([[1.]], dtype=float32),\n",
              " '/content/CNN-exercise/test_set/tank/google_images_2019-10-03_14h_18m_39s_00001671.jpg': array([[1.]], dtype=float32),\n",
              " '/content/CNN-exercise/test_set/tank/google_images_2019-10-03_14h_18m_39s_00001672.jpg': array([[1.]], dtype=float32),\n",
              " '/content/CNN-exercise/test_set/tank/google_images_2019-10-03_14h_18m_39s_00001673.jpg': array([[1.]], dtype=float32),\n",
              " '/content/CNN-exercise/test_set/tank/google_images_2019-10-03_14h_18m_39s_00001674.jpg': array([[1.]], dtype=float32),\n",
              " '/content/CNN-exercise/test_set/tank/google_images_2019-10-03_14h_18m_39s_00001675.jpg': array([[1.]], dtype=float32),\n",
              " '/content/CNN-exercise/test_set/tank/google_images_2019-10-03_14h_18m_39s_00001676.jpg': array([[1.]], dtype=float32),\n",
              " '/content/CNN-exercise/test_set/tank/google_images_2019-10-03_14h_18m_39s_00001677.jpg': array([[1.]], dtype=float32),\n",
              " '/content/CNN-exercise/test_set/tank/google_images_2019-10-03_14h_18m_39s_00001678.jpg': array([[1.]], dtype=float32),\n",
              " '/content/CNN-exercise/test_set/tank/google_images_2019-10-03_14h_18m_39s_00001679.jpg': array([[1.]], dtype=float32),\n",
              " '/content/CNN-exercise/test_set/tank/google_images_2019-10-03_14h_18m_39s_00001680.jpg': array([[1.]], dtype=float32),\n",
              " '/content/CNN-exercise/test_set/tank/google_images_2019-10-03_14h_18m_39s_00001681.jpg': array([[1.]], dtype=float32),\n",
              " '/content/CNN-exercise/test_set/tank/google_images_2019-10-03_14h_18m_39s_00001682.jpg': array([[1.]], dtype=float32),\n",
              " '/content/CNN-exercise/test_set/tank/google_images_2019-10-03_14h_18m_39s_00001683.jpg': array([[1.]], dtype=float32),\n",
              " '/content/CNN-exercise/test_set/tank/google_images_2019-10-03_14h_18m_39s_00001684.jpg': array([[1.]], dtype=float32),\n",
              " '/content/CNN-exercise/test_set/tank/google_images_2019-10-03_14h_18m_39s_00001685.jpg': array([[1.]], dtype=float32),\n",
              " '/content/CNN-exercise/test_set/tank/google_images_2019-10-03_14h_18m_39s_00001686.jpg': array([[1.]], dtype=float32),\n",
              " '/content/CNN-exercise/test_set/tank/google_images_2019-10-03_14h_18m_39s_00001687.jpg': array([[1.]], dtype=float32),\n",
              " '/content/CNN-exercise/test_set/tank/google_images_2019-10-03_14h_18m_39s_00001688.jpg': array([[1.]], dtype=float32),\n",
              " '/content/CNN-exercise/test_set/tank/google_images_2019-10-03_14h_18m_39s_00001689.jpg': array([[1.]], dtype=float32),\n",
              " '/content/CNN-exercise/test_set/tank/google_images_2019-10-03_14h_18m_39s_00001690.jpg': array([[1.]], dtype=float32),\n",
              " '/content/CNN-exercise/test_set/tank/google_images_2019-10-03_14h_18m_39s_00001691.jpg': array([[1.]], dtype=float32),\n",
              " '/content/CNN-exercise/test_set/tank/google_images_2019-10-03_14h_18m_39s_00001692.jpg': array([[1.]], dtype=float32),\n",
              " '/content/CNN-exercise/test_set/tank/google_images_2019-10-03_14h_18m_39s_00001693.jpg': array([[1.]], dtype=float32),\n",
              " '/content/CNN-exercise/test_set/tank/google_images_2019-10-03_14h_18m_39s_00001694.jpg': array([[1.]], dtype=float32),\n",
              " '/content/CNN-exercise/test_set/tank/google_images_2019-10-03_14h_18m_39s_00001695.jpg': array([[1.]], dtype=float32),\n",
              " '/content/CNN-exercise/test_set/tank/google_images_2019-10-03_14h_18m_39s_00001696.jpg': array([[1.]], dtype=float32),\n",
              " '/content/CNN-exercise/test_set/tank/google_images_2019-10-03_14h_18m_39s_00001697.jpg': array([[1.]], dtype=float32),\n",
              " '/content/CNN-exercise/test_set/tank/google_images_2019-10-03_14h_18m_39s_00001698.jpg': array([[1.]], dtype=float32),\n",
              " '/content/CNN-exercise/test_set/tank/google_images_2019-10-03_14h_18m_39s_00001699.jpg': array([[1.]], dtype=float32),\n",
              " '/content/CNN-exercise/test_set/tank/google_images_2019-10-03_14h_18m_39s_00001700.jpg': array([[1.]], dtype=float32),\n",
              " '/content/CNN-exercise/test_set/tank/google_images_2019-10-03_14h_18m_39s_00001701.jpg': array([[1.]], dtype=float32),\n",
              " '/content/CNN-exercise/test_set/tank/google_images_2019-10-03_14h_18m_39s_00001702.jpg': array([[1.]], dtype=float32),\n",
              " '/content/CNN-exercise/test_set/tank/google_images_2019-10-03_14h_18m_39s_00001703.jpg': array([[1.]], dtype=float32),\n",
              " '/content/CNN-exercise/test_set/tank/google_images_2019-10-03_14h_18m_39s_00001704.jpg': array([[1.]], dtype=float32),\n",
              " '/content/CNN-exercise/test_set/tank/google_images_2019-10-03_14h_18m_39s_00001705.jpg': array([[1.]], dtype=float32),\n",
              " '/content/CNN-exercise/test_set/tank/google_images_2019-10-03_14h_18m_39s_00001706.jpg': array([[1.]], dtype=float32),\n",
              " '/content/CNN-exercise/test_set/tank/google_images_2019-10-03_14h_18m_39s_00001707.jpg': array([[1.]], dtype=float32),\n",
              " '/content/CNN-exercise/test_set/tank/google_images_2019-10-03_14h_18m_39s_00001708.jpg': array([[1.]], dtype=float32),\n",
              " '/content/CNN-exercise/test_set/tank/google_images_2019-10-03_14h_18m_39s_00001709.jpg': array([[0.]], dtype=float32),\n",
              " '/content/CNN-exercise/test_set/tank/google_images_2019-10-03_14h_18m_39s_00001710.jpg': array([[1.]], dtype=float32),\n",
              " '/content/CNN-exercise/test_set/tank/google_images_2019-10-03_14h_18m_39s_00001711.jpg': array([[1.]], dtype=float32),\n",
              " '/content/CNN-exercise/test_set/tank/google_images_2019-10-03_14h_18m_39s_00001712.jpg': array([[1.]], dtype=float32),\n",
              " '/content/CNN-exercise/test_set/tank/google_images_2019-10-03_14h_18m_39s_00001713.jpg': array([[1.]], dtype=float32),\n",
              " '/content/CNN-exercise/test_set/tank/google_images_2019-10-03_14h_18m_39s_00001714.jpg': array([[1.]], dtype=float32),\n",
              " '/content/CNN-exercise/test_set/tank/google_images_2019-10-03_14h_18m_39s_00001715.jpg': array([[1.]], dtype=float32),\n",
              " '/content/CNN-exercise/test_set/tank/google_images_2019-10-03_14h_18m_39s_00001716.jpg': array([[1.]], dtype=float32),\n",
              " '/content/CNN-exercise/test_set/tank/google_images_2019-10-03_14h_18m_39s_00001717.jpg': array([[1.]], dtype=float32),\n",
              " '/content/CNN-exercise/test_set/tank/google_images_2019-10-03_14h_18m_39s_00001718.jpg': array([[1.]], dtype=float32),\n",
              " '/content/CNN-exercise/test_set/tank/google_images_2019-10-03_14h_18m_39s_00001719.jpg': array([[1.]], dtype=float32),\n",
              " '/content/CNN-exercise/test_set/tank/google_images_2019-10-03_14h_18m_39s_00001720.jpg': array([[1.]], dtype=float32),\n",
              " '/content/CNN-exercise/test_set/tank/google_images_2019-10-03_14h_18m_39s_00001721.jpg': array([[1.]], dtype=float32),\n",
              " '/content/CNN-exercise/test_set/tank/google_images_2019-10-03_14h_18m_39s_00001722.jpg': array([[1.]], dtype=float32),\n",
              " '/content/CNN-exercise/test_set/tank/google_images_2019-10-03_14h_18m_39s_00001723.jpg': array([[1.]], dtype=float32),\n",
              " '/content/CNN-exercise/test_set/tank/google_images_2019-10-03_14h_18m_39s_00001724.jpg': array([[1.]], dtype=float32),\n",
              " '/content/CNN-exercise/test_set/tank/google_images_2019-10-03_14h_18m_39s_00001725.jpg': array([[1.]], dtype=float32),\n",
              " '/content/CNN-exercise/test_set/tank/google_images_2019-10-03_14h_18m_39s_00001726.jpg': array([[1.]], dtype=float32),\n",
              " '/content/CNN-exercise/test_set/tank/google_images_2019-10-03_14h_18m_39s_00001727.jpg': array([[1.]], dtype=float32),\n",
              " '/content/CNN-exercise/test_set/tank/google_images_2019-10-03_14h_18m_39s_00001728.jpg': array([[1.]], dtype=float32),\n",
              " '/content/CNN-exercise/test_set/tank/google_images_2019-10-03_14h_18m_39s_00001729.jpg': array([[1.]], dtype=float32),\n",
              " '/content/CNN-exercise/test_set/tank/google_images_2019-10-03_14h_18m_39s_00001730.jpg': array([[1.]], dtype=float32),\n",
              " '/content/CNN-exercise/test_set/tank/google_images_2019-10-03_14h_18m_39s_00001731.jpg': array([[1.]], dtype=float32),\n",
              " '/content/CNN-exercise/test_set/tank/google_images_2019-10-03_14h_18m_39s_00001732.jpg': array([[1.]], dtype=float32),\n",
              " '/content/CNN-exercise/test_set/tank/google_images_2019-10-03_14h_18m_39s_00001733.jpg': array([[1.]], dtype=float32),\n",
              " '/content/CNN-exercise/test_set/tank/google_images_2019-10-03_14h_18m_39s_00001734.jpg': array([[1.]], dtype=float32),\n",
              " '/content/CNN-exercise/test_set/tank/google_images_2019-10-03_14h_18m_39s_00001735.jpg': array([[1.]], dtype=float32),\n",
              " '/content/CNN-exercise/test_set/tank/google_images_2019-10-03_14h_18m_39s_00001736.jpg': array([[1.]], dtype=float32),\n",
              " '/content/CNN-exercise/test_set/tank/google_images_2019-10-03_14h_18m_39s_00001737.jpg': array([[1.]], dtype=float32),\n",
              " '/content/CNN-exercise/test_set/tank/google_images_2019-10-03_14h_18m_39s_00001738.jpg': array([[1.]], dtype=float32),\n",
              " '/content/CNN-exercise/test_set/tank/google_images_2019-10-03_14h_18m_39s_00001739.jpg': array([[1.]], dtype=float32),\n",
              " '/content/CNN-exercise/test_set/tank/google_images_2019-10-03_14h_18m_39s_00001740.jpg': array([[1.]], dtype=float32),\n",
              " '/content/CNN-exercise/test_set/tank/google_images_2019-10-03_14h_18m_39s_00001741.jpg': array([[1.]], dtype=float32),\n",
              " '/content/CNN-exercise/test_set/tank/google_images_2019-10-03_14h_18m_39s_00001742.jpg': array([[1.]], dtype=float32),\n",
              " '/content/CNN-exercise/test_set/tank/google_images_2019-10-03_14h_18m_39s_00001743.jpg': array([[1.]], dtype=float32),\n",
              " '/content/CNN-exercise/test_set/tank/google_images_2019-10-03_14h_18m_39s_00001744.jpg': array([[1.]], dtype=float32),\n",
              " '/content/CNN-exercise/test_set/tank/google_images_2019-10-03_14h_18m_39s_00001745.jpg': array([[1.]], dtype=float32),\n",
              " '/content/CNN-exercise/test_set/tank/google_images_2019-10-03_14h_18m_39s_00001746.jpg': array([[1.]], dtype=float32),\n",
              " '/content/CNN-exercise/test_set/tank/google_images_2019-10-03_14h_18m_39s_00001747.jpg': array([[1.]], dtype=float32),\n",
              " '/content/CNN-exercise/test_set/tank/google_images_2019-10-03_14h_18m_39s_00001748.jpg': array([[1.]], dtype=float32),\n",
              " '/content/CNN-exercise/test_set/tank/google_images_2019-10-03_14h_18m_39s_00001749.jpg': array([[1.]], dtype=float32),\n",
              " '/content/CNN-exercise/test_set/tank/google_images_2019-10-03_14h_18m_39s_00001750.jpg': array([[1.]], dtype=float32),\n",
              " '/content/CNN-exercise/test_set/tank/google_images_2019-10-03_14h_18m_39s_00001751.jpg': array([[1.]], dtype=float32),\n",
              " '/content/CNN-exercise/test_set/tank/google_images_2019-10-03_14h_18m_39s_00001752.jpg': array([[1.]], dtype=float32),\n",
              " '/content/CNN-exercise/test_set/tank/google_images_2019-10-03_14h_18m_39s_00001753.jpg': array([[1.]], dtype=float32),\n",
              " '/content/CNN-exercise/test_set/tank/google_images_2019-10-03_14h_18m_39s_00001754.jpg': array([[1.]], dtype=float32),\n",
              " '/content/CNN-exercise/test_set/tank/google_images_2019-10-03_14h_18m_39s_00001755.jpg': array([[1.]], dtype=float32),\n",
              " '/content/CNN-exercise/test_set/tank/google_images_2019-10-03_14h_18m_39s_00001756.jpg': array([[1.]], dtype=float32),\n",
              " '/content/CNN-exercise/test_set/tank/google_images_2019-10-03_14h_18m_39s_00001757.jpg': array([[0.]], dtype=float32),\n",
              " '/content/CNN-exercise/test_set/tank/google_images_2019-10-03_14h_18m_39s_00001758.jpg': array([[1.]], dtype=float32),\n",
              " '/content/CNN-exercise/test_set/tank/google_images_2019-10-03_14h_18m_39s_00001759.jpg': array([[1.]], dtype=float32),\n",
              " '/content/CNN-exercise/test_set/tank/google_images_2019-10-03_14h_18m_39s_00001760.jpg': array([[1.]], dtype=float32),\n",
              " '/content/CNN-exercise/test_set/tank/google_images_2019-10-03_14h_18m_39s_00001761.jpg': array([[1.]], dtype=float32),\n",
              " '/content/CNN-exercise/test_set/tank/google_images_2019-10-03_14h_18m_39s_00001762.jpg': array([[1.]], dtype=float32),\n",
              " '/content/CNN-exercise/test_set/tank/google_images_2019-10-03_14h_18m_39s_00001763.jpg': array([[1.]], dtype=float32),\n",
              " '/content/CNN-exercise/test_set/tank/google_images_2019-10-03_14h_18m_39s_00001764.jpg': array([[1.]], dtype=float32),\n",
              " '/content/CNN-exercise/test_set/tank/google_images_2019-10-03_14h_18m_39s_00001765.jpg': array([[1.]], dtype=float32),\n",
              " '/content/CNN-exercise/test_set/tank/google_images_2019-10-03_14h_18m_39s_00001766.jpg': array([[1.]], dtype=float32),\n",
              " '/content/CNN-exercise/test_set/tank/google_images_2019-10-03_14h_18m_39s_00001767.jpg': array([[1.]], dtype=float32),\n",
              " '/content/CNN-exercise/test_set/tank/google_images_2019-10-03_14h_18m_39s_00001768.jpg': array([[1.]], dtype=float32),\n",
              " '/content/CNN-exercise/test_set/tank/google_images_2019-10-03_14h_18m_39s_00001769.jpg': array([[1.]], dtype=float32),\n",
              " '/content/CNN-exercise/test_set/tank/google_images_2019-10-03_14h_18m_39s_00001770.jpg': array([[0.]], dtype=float32),\n",
              " '/content/CNN-exercise/test_set/tank/google_images_2019-10-03_14h_18m_39s_00001775.jpg': array([[1.]], dtype=float32),\n",
              " '/content/CNN-exercise/test_set/tank/google_images_2019-10-03_14h_18m_39s_00001776.jpg': array([[1.]], dtype=float32),\n",
              " '/content/CNN-exercise/test_set/tank/google_images_2019-10-03_14h_18m_39s_00001777.jpg': array([[1.]], dtype=float32),\n",
              " '/content/CNN-exercise/test_set/tank/google_images_2019-10-03_14h_18m_39s_00001778.jpg': array([[1.]], dtype=float32),\n",
              " '/content/CNN-exercise/test_set/tank/google_images_2019-10-03_14h_18m_39s_00001779.jpg': array([[1.]], dtype=float32),\n",
              " '/content/CNN-exercise/test_set/tank/google_images_2019-10-03_14h_18m_39s_00001781.jpg': array([[1.]], dtype=float32),\n",
              " '/content/CNN-exercise/test_set/tank/google_images_2019-10-03_14h_18m_39s_00001782.jpg': array([[1.]], dtype=float32),\n",
              " '/content/CNN-exercise/test_set/tank/google_images_2019-10-03_14h_18m_39s_00001783.jpg': array([[1.]], dtype=float32),\n",
              " '/content/CNN-exercise/test_set/tank/google_images_2019-10-03_14h_18m_39s_00001784.jpg': array([[1.]], dtype=float32),\n",
              " '/content/CNN-exercise/test_set/tank/google_images_2019-10-03_14h_18m_39s_00001785.jpg': array([[1.]], dtype=float32),\n",
              " '/content/CNN-exercise/test_set/tank/google_images_2019-10-03_14h_18m_39s_00001786.jpg': array([[1.]], dtype=float32),\n",
              " '/content/CNN-exercise/test_set/tank/google_images_2019-10-03_14h_18m_39s_00001787.jpg': array([[1.]], dtype=float32),\n",
              " '/content/CNN-exercise/test_set/tank/google_images_2019-10-03_14h_18m_39s_00001788.jpg': array([[1.]], dtype=float32),\n",
              " '/content/CNN-exercise/test_set/tank/google_images_2019-10-03_14h_18m_39s_00001789.jpg': array([[1.]], dtype=float32),\n",
              " '/content/CNN-exercise/test_set/tank/google_images_2019-10-03_14h_18m_39s_00001790.jpg': array([[1.]], dtype=float32),\n",
              " '/content/CNN-exercise/test_set/tank/google_images_2019-10-03_14h_18m_39s_00001791.jpg': array([[0.]], dtype=float32),\n",
              " '/content/CNN-exercise/test_set/tank/google_images_2019-10-03_14h_18m_39s_00001792.jpg': array([[1.]], dtype=float32),\n",
              " '/content/CNN-exercise/test_set/tank/google_images_2019-10-03_14h_18m_39s_00001793.jpg': array([[1.]], dtype=float32),\n",
              " '/content/CNN-exercise/test_set/tank/google_images_2019-10-03_14h_18m_39s_00001794.jpg': array([[1.]], dtype=float32),\n",
              " '/content/CNN-exercise/test_set/tank/google_images_2019-10-03_14h_18m_39s_00001795.jpg': array([[1.]], dtype=float32),\n",
              " '/content/CNN-exercise/test_set/tank/google_images_2019-10-03_14h_18m_39s_00001796.jpg': array([[1.]], dtype=float32),\n",
              " '/content/CNN-exercise/test_set/tank/google_images_2019-10-03_14h_18m_39s_00001797.jpg': array([[1.]], dtype=float32),\n",
              " '/content/CNN-exercise/test_set/tank/google_images_2019-10-03_14h_18m_39s_00001798.jpg': array([[1.]], dtype=float32),\n",
              " '/content/CNN-exercise/test_set/tank/google_images_2019-10-03_14h_18m_39s_00001799.jpg': array([[1.]], dtype=float32),\n",
              " '/content/CNN-exercise/test_set/tank/google_images_2019-10-03_14h_18m_39s_00001800.jpg': array([[1.]], dtype=float32),\n",
              " '/content/CNN-exercise/test_set/tank/google_images_2019-10-03_14h_18m_39s_00001801.jpg': array([[1.]], dtype=float32),\n",
              " '/content/CNN-exercise/test_set/tank/google_images_2019-10-03_14h_18m_39s_00001802.jpg': array([[1.]], dtype=float32),\n",
              " '/content/CNN-exercise/test_set/tank/google_images_2019-10-03_14h_18m_39s_00001803.jpg': array([[1.]], dtype=float32),\n",
              " '/content/CNN-exercise/test_set/tank/google_images_2019-10-03_14h_18m_39s_00001804.jpg': array([[1.]], dtype=float32),\n",
              " '/content/CNN-exercise/test_set/tank/google_images_2019-10-03_14h_18m_39s_00001805.jpg': array([[1.]], dtype=float32),\n",
              " '/content/CNN-exercise/test_set/tank/google_images_2019-10-03_14h_18m_39s_00001806.jpg': array([[1.]], dtype=float32),\n",
              " '/content/CNN-exercise/test_set/tank/google_images_2019-10-03_14h_18m_39s_00001807.jpg': array([[1.]], dtype=float32),\n",
              " '/content/CNN-exercise/test_set/tank/google_images_2019-10-03_14h_18m_39s_00001808.jpg': array([[1.]], dtype=float32),\n",
              " '/content/CNN-exercise/test_set/tank/google_images_2019-10-03_14h_18m_39s_00001809.jpg': array([[1.]], dtype=float32),\n",
              " '/content/CNN-exercise/test_set/tank/google_images_2019-10-03_14h_18m_39s_00001810.jpg': array([[1.]], dtype=float32),\n",
              " '/content/CNN-exercise/test_set/tank/google_images_2019-10-03_14h_18m_39s_00001812.jpg': array([[0.]], dtype=float32),\n",
              " '/content/CNN-exercise/test_set/tank/google_images_2019-10-03_14h_18m_39s_00001813.jpg': array([[1.]], dtype=float32),\n",
              " '/content/CNN-exercise/test_set/tank/google_images_2019-10-03_14h_18m_39s_00001814.jpg': array([[1.]], dtype=float32),\n",
              " '/content/CNN-exercise/test_set/tank/google_images_2019-10-03_14h_18m_39s_00001815.jpg': array([[1.]], dtype=float32),\n",
              " '/content/CNN-exercise/test_set/tank/google_images_2019-10-03_14h_18m_39s_00001816.jpg': array([[1.]], dtype=float32),\n",
              " '/content/CNN-exercise/test_set/tank/google_images_2019-10-03_14h_18m_39s_00001817.jpg': array([[1.]], dtype=float32),\n",
              " '/content/CNN-exercise/test_set/tank/google_images_2019-10-03_14h_18m_39s_00001818.jpg': array([[1.]], dtype=float32),\n",
              " '/content/CNN-exercise/test_set/tank/google_images_2019-10-03_14h_18m_39s_00001819.jpg': array([[1.]], dtype=float32),\n",
              " '/content/CNN-exercise/test_set/tank/google_images_2019-10-03_14h_18m_39s_00001820.jpg': array([[1.]], dtype=float32),\n",
              " '/content/CNN-exercise/test_set/tank/google_images_2019-10-03_14h_18m_39s_00001821.jpg': array([[1.]], dtype=float32),\n",
              " '/content/CNN-exercise/test_set/tank/google_images_2019-10-03_14h_18m_39s_00001822.jpg': array([[1.]], dtype=float32),\n",
              " '/content/CNN-exercise/test_set/tank/google_images_2019-10-03_14h_18m_39s_00001823.jpg': array([[1.]], dtype=float32),\n",
              " '/content/CNN-exercise/test_set/tank/google_images_2019-10-03_14h_18m_39s_00001824.jpg': array([[1.]], dtype=float32),\n",
              " '/content/CNN-exercise/test_set/tank/google_images_2019-10-03_14h_18m_39s_00001825.jpg': array([[1.]], dtype=float32),\n",
              " '/content/CNN-exercise/test_set/tank/google_images_2019-10-03_14h_18m_39s_00001826.jpg': array([[1.]], dtype=float32),\n",
              " '/content/CNN-exercise/test_set/tank/google_images_2019-10-03_14h_18m_39s_00001827.jpg': array([[1.]], dtype=float32),\n",
              " '/content/CNN-exercise/test_set/tank/google_images_2019-10-03_14h_18m_39s_00001828.jpg': array([[1.]], dtype=float32),\n",
              " '/content/CNN-exercise/test_set/tank/google_images_2019-10-03_14h_18m_39s_00001829.jpg': array([[1.]], dtype=float32),\n",
              " '/content/CNN-exercise/test_set/tank/google_images_2019-10-03_14h_18m_39s_00001830.jpg': array([[1.]], dtype=float32),\n",
              " '/content/CNN-exercise/test_set/tank/google_images_2019-10-03_14h_18m_39s_00001831.jpg': array([[0.]], dtype=float32),\n",
              " '/content/CNN-exercise/test_set/tank/google_images_2019-10-03_14h_18m_39s_00001832.jpg': array([[1.]], dtype=float32),\n",
              " '/content/CNN-exercise/test_set/tank/google_images_2019-10-03_14h_18m_39s_00001833.jpg': array([[1.]], dtype=float32),\n",
              " '/content/CNN-exercise/test_set/tank/google_images_2019-10-03_14h_18m_39s_00001834.jpg': array([[1.]], dtype=float32),\n",
              " '/content/CNN-exercise/test_set/tank/google_images_2019-10-03_14h_18m_39s_00001835.jpg': array([[1.]], dtype=float32),\n",
              " '/content/CNN-exercise/test_set/tank/google_images_2019-10-03_14h_18m_39s_00001836.jpg': array([[1.]], dtype=float32),\n",
              " '/content/CNN-exercise/test_set/tank/google_images_2019-10-03_14h_18m_39s_00001837.jpg': array([[1.]], dtype=float32),\n",
              " '/content/CNN-exercise/test_set/tank/google_images_2019-10-03_14h_18m_39s_00001838.jpg': array([[1.]], dtype=float32),\n",
              " '/content/CNN-exercise/test_set/tank/google_images_2019-10-03_14h_18m_39s_00001839.jpg': array([[1.]], dtype=float32),\n",
              " '/content/CNN-exercise/test_set/tank/google_images_2019-10-03_14h_18m_39s_00001840.jpg': array([[1.]], dtype=float32),\n",
              " '/content/CNN-exercise/test_set/tank/google_images_2019-10-03_14h_18m_39s_00001841.jpg': array([[1.]], dtype=float32),\n",
              " '/content/CNN-exercise/test_set/tank/google_images_2019-10-03_14h_18m_39s_00001842.jpg': array([[1.]], dtype=float32),\n",
              " '/content/CNN-exercise/test_set/tank/google_images_2019-10-03_14h_18m_39s_00001843.jpg': array([[1.]], dtype=float32),\n",
              " '/content/CNN-exercise/test_set/tank/google_images_2019-10-03_14h_18m_39s_00001844.jpg': array([[1.]], dtype=float32),\n",
              " '/content/CNN-exercise/test_set/tank/google_images_2019-10-03_14h_18m_39s_00001845.jpg': array([[1.]], dtype=float32),\n",
              " '/content/CNN-exercise/test_set/tank/google_images_2019-10-03_14h_18m_39s_00001846.jpg': array([[1.]], dtype=float32),\n",
              " '/content/CNN-exercise/test_set/tank/google_images_2019-10-03_14h_18m_39s_00001847.jpg': array([[1.]], dtype=float32),\n",
              " '/content/CNN-exercise/test_set/tank/google_images_2019-10-03_14h_18m_39s_00001848.jpg': array([[1.]], dtype=float32),\n",
              " '/content/CNN-exercise/test_set/tank/google_images_2019-10-03_14h_18m_39s_00001849.jpg': array([[1.]], dtype=float32),\n",
              " '/content/CNN-exercise/test_set/tank/google_images_2019-10-03_14h_18m_39s_00001850.jpg': array([[1.]], dtype=float32),\n",
              " '/content/CNN-exercise/test_set/tank/google_images_2019-10-03_14h_18m_39s_00001851.jpg': array([[1.]], dtype=float32),\n",
              " '/content/CNN-exercise/test_set/tank/google_images_2019-10-03_14h_18m_39s_00001852.jpg': array([[1.]], dtype=float32),\n",
              " '/content/CNN-exercise/test_set/tank/google_images_2019-10-03_14h_18m_39s_00001854.jpg': array([[1.]], dtype=float32),\n",
              " '/content/CNN-exercise/test_set/tank/google_images_2019-10-03_14h_18m_39s_00001855.jpg': array([[1.]], dtype=float32),\n",
              " '/content/CNN-exercise/test_set/tank/google_images_2019-10-03_14h_18m_39s_00001856.jpg': array([[1.]], dtype=float32),\n",
              " '/content/CNN-exercise/test_set/tank/google_images_2019-10-03_14h_18m_39s_00001857.jpg': array([[1.]], dtype=float32),\n",
              " '/content/CNN-exercise/test_set/tank/google_images_2019-10-03_14h_18m_39s_00001858.jpg': array([[1.]], dtype=float32),\n",
              " '/content/CNN-exercise/test_set/tank/google_images_2019-10-03_14h_18m_39s_00001865.jpg': array([[1.]], dtype=float32),\n",
              " '/content/CNN-exercise/test_set/tank/google_images_2019-10-03_14h_18m_39s_00001866.jpg': array([[1.]], dtype=float32),\n",
              " '/content/CNN-exercise/test_set/tank/google_images_2019-10-03_14h_18m_39s_00001867.jpg': array([[1.]], dtype=float32),\n",
              " '/content/CNN-exercise/test_set/tank/google_images_2019-10-03_14h_18m_39s_00001868.jpg': array([[1.]], dtype=float32),\n",
              " '/content/CNN-exercise/test_set/tank/google_images_2019-10-03_14h_18m_39s_00001869.jpg': array([[1.]], dtype=float32),\n",
              " '/content/CNN-exercise/test_set/tank/google_images_2019-10-03_14h_18m_39s_00001870.jpg': array([[1.]], dtype=float32),\n",
              " '/content/CNN-exercise/test_set/tank/google_images_2019-10-03_14h_18m_39s_00001871.jpg': array([[1.]], dtype=float32),\n",
              " '/content/CNN-exercise/test_set/tank/google_images_2019-10-03_14h_18m_39s_00001872.jpg': array([[1.]], dtype=float32),\n",
              " '/content/CNN-exercise/test_set/tank/google_images_2019-10-03_14h_18m_39s_00001873.jpg': array([[0.]], dtype=float32),\n",
              " '/content/CNN-exercise/test_set/tank/google_images_2019-10-03_14h_18m_39s_00001874.jpg': array([[1.]], dtype=float32),\n",
              " '/content/CNN-exercise/test_set/tank/google_images_2019-10-03_14h_18m_39s_00001875.jpg': array([[1.]], dtype=float32),\n",
              " '/content/CNN-exercise/test_set/tank/google_images_2019-10-03_14h_18m_39s_00001876.jpg': array([[1.]], dtype=float32),\n",
              " '/content/CNN-exercise/test_set/tank/google_images_2019-10-03_14h_18m_39s_00001877.jpg': array([[1.]], dtype=float32),\n",
              " '/content/CNN-exercise/test_set/tank/google_images_2019-10-03_14h_18m_39s_00001878.jpg': array([[1.]], dtype=float32),\n",
              " '/content/CNN-exercise/test_set/tank/google_images_2019-10-03_14h_18m_39s_00001879.jpg': array([[1.]], dtype=float32),\n",
              " '/content/CNN-exercise/test_set/tank/google_images_2019-10-03_14h_18m_39s_00001880.jpg': array([[1.]], dtype=float32),\n",
              " '/content/CNN-exercise/test_set/tank/google_images_2019-10-03_14h_18m_39s_00001881.jpg': array([[1.]], dtype=float32),\n",
              " '/content/CNN-exercise/test_set/tank/google_images_2019-10-03_14h_18m_39s_00001882.jpg': array([[1.]], dtype=float32),\n",
              " '/content/CNN-exercise/test_set/tank/google_images_2019-10-03_14h_18m_39s_00001884.jpg': array([[1.]], dtype=float32),\n",
              " '/content/CNN-exercise/test_set/tank/google_images_2019-10-03_14h_18m_39s_00001885.jpg': array([[1.]], dtype=float32),\n",
              " '/content/CNN-exercise/test_set/tank/google_images_2019-10-03_14h_18m_39s_00001886.jpg': array([[1.]], dtype=float32),\n",
              " '/content/CNN-exercise/test_set/tank/google_images_2019-10-03_14h_18m_39s_00001887.jpg': array([[1.]], dtype=float32),\n",
              " '/content/CNN-exercise/test_set/tank/google_images_2019-10-03_14h_18m_39s_00001889.jpg': array([[1.]], dtype=float32),\n",
              " '/content/CNN-exercise/test_set/tank/google_images_2019-10-03_14h_18m_39s_00001890.jpg': array([[1.]], dtype=float32),\n",
              " '/content/CNN-exercise/test_set/tank/google_images_2019-10-03_14h_18m_39s_00001891.jpg': array([[1.]], dtype=float32),\n",
              " '/content/CNN-exercise/test_set/tank/google_images_2019-10-03_14h_18m_39s_00001892.jpg': array([[1.]], dtype=float32),\n",
              " '/content/CNN-exercise/test_set/tank/google_images_2019-10-03_14h_18m_39s_00001893.jpg': array([[1.]], dtype=float32),\n",
              " '/content/CNN-exercise/test_set/tank/google_images_2019-10-03_14h_18m_39s_00001894.jpg': array([[1.]], dtype=float32),\n",
              " '/content/CNN-exercise/test_set/tank/google_images_2019-10-03_14h_18m_39s_00001895.jpg': array([[1.]], dtype=float32),\n",
              " '/content/CNN-exercise/test_set/tank/google_images_2019-10-03_14h_18m_39s_00001896.jpg': array([[1.]], dtype=float32),\n",
              " '/content/CNN-exercise/test_set/tank/google_images_2019-10-03_14h_18m_39s_00001897.jpg': array([[1.]], dtype=float32),\n",
              " '/content/CNN-exercise/test_set/tank/google_images_2019-10-03_14h_18m_39s_00001898.jpg': array([[1.]], dtype=float32),\n",
              " '/content/CNN-exercise/test_set/tank/google_images_2019-10-03_14h_18m_39s_00001899.jpg': array([[1.]], dtype=float32),\n",
              " '/content/CNN-exercise/test_set/tank/google_images_2019-10-03_14h_18m_39s_00001900.jpg': array([[1.]], dtype=float32)}"
            ]
          },
          "metadata": {
            "tags": []
          },
          "execution_count": 100
        }
      ]
    },
    {
      "cell_type": "code",
      "metadata": {
        "id": "gEn5KWRwCI_d",
        "colab_type": "code",
        "outputId": "61603bb5-3adc-4342-a44e-87afb18018c2",
        "colab": {
          "base_uri": "https://localhost:8080/",
          "height": 34
        }
      },
      "source": [
        "len(out_list)"
      ],
      "execution_count": 0,
      "outputs": [
        {
          "output_type": "execute_result",
          "data": {
            "text/plain": [
              "574"
            ]
          },
          "metadata": {
            "tags": []
          },
          "execution_count": 101
        }
      ]
    },
    {
      "cell_type": "code",
      "metadata": {
        "id": "tbUe_IGIqIJh",
        "colab_type": "code",
        "colab": {}
      },
      "source": [
        "import pandas as pd\n",
        "import math"
      ],
      "execution_count": 0,
      "outputs": []
    },
    {
      "cell_type": "code",
      "metadata": {
        "id": "E1G-mxcbvtww",
        "colab_type": "code",
        "colab": {}
      },
      "source": [
        "#df= pd.read_csv('output.txt', header = None)\n",
        "### data= pd.read_csv('output.txt', header = None, delimiter = ' ')  This version did a great job splitting them all but they were all on one row\n",
        "#df=df.transpose()\n",
        "#df.head()"
      ],
      "execution_count": 0,
      "outputs": []
    },
    {
      "cell_type": "code",
      "metadata": {
        "id": "7i2mp6JXi9JU",
        "colab_type": "code",
        "colab": {}
      },
      "source": [
        "## REF:  https://stackoverflow.com/questions/33634142/pandas-how-to-delete-alternate-rows\n",
        "#df2= df.iloc[::2]  # this gets rid of every second row that just had the data type of the previous row\n",
        "#pd.set_option('display.max_colwidth', None)\n",
        "#print(df2.iloc[200:220])"
      ],
      "execution_count": 0,
      "outputs": []
    },
    {
      "cell_type": "code",
      "metadata": {
        "id": "4CO2a747MiFw",
        "colab_type": "code",
        "colab": {}
      },
      "source": [
        "out_list_predict = {}\n",
        "out_list_actual = {}\n",
        "for i, key in enumerate(out_list):\n",
        "    out_list_predict[key] = int(out_list[key][0][0])\n",
        "    if '/not_tank/' in key:\n",
        "        out_list_actual[key] = 0\n",
        "    elif '/tank/' in key:\n",
        "        out_list_actual[key] = 1"
      ],
      "execution_count": 0,
      "outputs": []
    },
    {
      "cell_type": "code",
      "metadata": {
        "id": "gz4bOtNsN3Xl",
        "colab_type": "code",
        "outputId": "4f832170-cb82-4b5e-86b3-7345eb2f9ef6",
        "colab": {
          "base_uri": "https://localhost:8080/",
          "height": 419
        }
      },
      "source": [
        "df_predicted = pd.DataFrame.from_dict(out_list_predict, orient='index', columns=['predicted'])\n",
        "df_actual = pd.DataFrame.from_dict(out_list_actual, orient='index', columns=['actual'])\n",
        "df_results = pd.concat([df_predicted, df_actual], axis=1)\n",
        "df_results"
      ],
      "execution_count": 0,
      "outputs": [
        {
          "output_type": "execute_result",
          "data": {
            "text/html": [
              "<div>\n",
              "<style scoped>\n",
              "    .dataframe tbody tr th:only-of-type {\n",
              "        vertical-align: middle;\n",
              "    }\n",
              "\n",
              "    .dataframe tbody tr th {\n",
              "        vertical-align: top;\n",
              "    }\n",
              "\n",
              "    .dataframe thead th {\n",
              "        text-align: right;\n",
              "    }\n",
              "</style>\n",
              "<table border=\"1\" class=\"dataframe\">\n",
              "  <thead>\n",
              "    <tr style=\"text-align: right;\">\n",
              "      <th></th>\n",
              "      <th>predicted</th>\n",
              "      <th>actual</th>\n",
              "    </tr>\n",
              "  </thead>\n",
              "  <tbody>\n",
              "    <tr>\n",
              "      <th>/content/CNN-exercise/test_set/not_tank/google_images_2019-10-03_13h_34m_38s_00001157.jpg</th>\n",
              "      <td>0</td>\n",
              "      <td>0</td>\n",
              "    </tr>\n",
              "    <tr>\n",
              "      <th>/content/CNN-exercise/test_set/not_tank/google_images_2019-10-03_13h_34m_38s_00001134.jpg</th>\n",
              "      <td>0</td>\n",
              "      <td>0</td>\n",
              "    </tr>\n",
              "    <tr>\n",
              "      <th>/content/CNN-exercise/test_set/not_tank/google_images_2019-10-03_13h_34m_38s_00001124.jpg</th>\n",
              "      <td>0</td>\n",
              "      <td>0</td>\n",
              "    </tr>\n",
              "    <tr>\n",
              "      <th>/content/CNN-exercise/test_set/not_tank/google_images_2019-10-03_13h_34m_38s_00001177.jpg</th>\n",
              "      <td>0</td>\n",
              "      <td>0</td>\n",
              "    </tr>\n",
              "    <tr>\n",
              "      <th>/content/CNN-exercise/test_set/not_tank/google_images_2019-10-03_13h_34m_38s_00000933.jpg</th>\n",
              "      <td>1</td>\n",
              "      <td>0</td>\n",
              "    </tr>\n",
              "    <tr>\n",
              "      <th>...</th>\n",
              "      <td>...</td>\n",
              "      <td>...</td>\n",
              "    </tr>\n",
              "    <tr>\n",
              "      <th>/content/CNN-exercise/test_set/tank/google_images_2019-10-03_14h_18m_39s_00001724.jpg</th>\n",
              "      <td>1</td>\n",
              "      <td>1</td>\n",
              "    </tr>\n",
              "    <tr>\n",
              "      <th>/content/CNN-exercise/test_set/tank/google_images_2019-10-03_14h_18m_39s_00001524.jpg</th>\n",
              "      <td>1</td>\n",
              "      <td>1</td>\n",
              "    </tr>\n",
              "    <tr>\n",
              "      <th>/content/CNN-exercise/test_set/tank/google_images_2019-10-03_14h_18m_39s_00001636.jpg</th>\n",
              "      <td>1</td>\n",
              "      <td>1</td>\n",
              "    </tr>\n",
              "    <tr>\n",
              "      <th>/content/CNN-exercise/test_set/tank/google_images_2019-10-03_14h_18m_39s_00001669.jpg</th>\n",
              "      <td>1</td>\n",
              "      <td>1</td>\n",
              "    </tr>\n",
              "    <tr>\n",
              "      <th>/content/CNN-exercise/test_set/tank/google_images_2019-10-03_14h_18m_39s_00001738.jpg</th>\n",
              "      <td>1</td>\n",
              "      <td>1</td>\n",
              "    </tr>\n",
              "  </tbody>\n",
              "</table>\n",
              "<p>574 rows × 2 columns</p>\n",
              "</div>"
            ],
            "text/plain": [
              "                                                                                           predicted  actual\n",
              "/content/CNN-exercise/test_set/not_tank/google_images_2019-10-03_13h_34m_38s_00001157.jpg          0       0\n",
              "/content/CNN-exercise/test_set/not_tank/google_images_2019-10-03_13h_34m_38s_00001134.jpg          0       0\n",
              "/content/CNN-exercise/test_set/not_tank/google_images_2019-10-03_13h_34m_38s_00001124.jpg          0       0\n",
              "/content/CNN-exercise/test_set/not_tank/google_images_2019-10-03_13h_34m_38s_00001177.jpg          0       0\n",
              "/content/CNN-exercise/test_set/not_tank/google_images_2019-10-03_13h_34m_38s_00000933.jpg          1       0\n",
              "...                                                                                              ...     ...\n",
              "/content/CNN-exercise/test_set/tank/google_images_2019-10-03_14h_18m_39s_00001724.jpg              1       1\n",
              "/content/CNN-exercise/test_set/tank/google_images_2019-10-03_14h_18m_39s_00001524.jpg              1       1\n",
              "/content/CNN-exercise/test_set/tank/google_images_2019-10-03_14h_18m_39s_00001636.jpg              1       1\n",
              "/content/CNN-exercise/test_set/tank/google_images_2019-10-03_14h_18m_39s_00001669.jpg              1       1\n",
              "/content/CNN-exercise/test_set/tank/google_images_2019-10-03_14h_18m_39s_00001738.jpg              1       1\n",
              "\n",
              "[574 rows x 2 columns]"
            ]
          },
          "metadata": {
            "tags": []
          },
          "execution_count": 104
        }
      ]
    },
    {
      "cell_type": "code",
      "metadata": {
        "id": "OvZssAyJW--d",
        "colab_type": "code",
        "outputId": "d8b34a6c-e672-4739-ab27-e9f902f2451e",
        "colab": {
          "base_uri": "https://localhost:8080/",
          "height": 221
        }
      },
      "source": [
        ""
      ],
      "execution_count": 0,
      "outputs": [
        {
          "output_type": "stream",
          "text": [
            "/content/CNN-exercise/test_set/not_tank/google_images_2019-10-03_13h_34m_38s_00001157.jpg    0\n",
            "/content/CNN-exercise/test_set/not_tank/google_images_2019-10-03_13h_34m_38s_00001134.jpg    0\n",
            "/content/CNN-exercise/test_set/not_tank/google_images_2019-10-03_13h_34m_38s_00001124.jpg    0\n",
            "/content/CNN-exercise/test_set/not_tank/google_images_2019-10-03_13h_34m_38s_00001177.jpg    0\n",
            "/content/CNN-exercise/test_set/not_tank/google_images_2019-10-03_13h_34m_38s_00000933.jpg    1\n",
            "                                                                                            ..\n",
            "/content/CNN-exercise/test_set/tank/google_images_2019-10-03_14h_18m_39s_00001724.jpg        1\n",
            "/content/CNN-exercise/test_set/tank/google_images_2019-10-03_14h_18m_39s_00001524.jpg        1\n",
            "/content/CNN-exercise/test_set/tank/google_images_2019-10-03_14h_18m_39s_00001636.jpg        1\n",
            "/content/CNN-exercise/test_set/tank/google_images_2019-10-03_14h_18m_39s_00001669.jpg        1\n",
            "/content/CNN-exercise/test_set/tank/google_images_2019-10-03_14h_18m_39s_00001738.jpg        1\n",
            "Name: predicted, Length: 574, dtype: int64\n"
          ],
          "name": "stdout"
        }
      ]
    },
    {
      "cell_type": "code",
      "metadata": {
        "id": "-H4KL4HnmIwW",
        "colab_type": "code",
        "colab": {}
      },
      "source": [
        "TP=0\n",
        "FP=0\n",
        "TN=0\n",
        "FN=0"
      ],
      "execution_count": 0,
      "outputs": []
    },
    {
      "cell_type": "code",
      "metadata": {
        "id": "DvOSFNPfTuqL",
        "colab_type": "code",
        "colab": {}
      },
      "source": [
        "for r, a in df_results.iterrows():\n",
        "  if a['predicted']==0:\n",
        "    if a['actual']==0:\n",
        "      TN+=1\n",
        "    elif a['actual']==1:\n",
        "      FP+=1\n",
        "  elif a['predicted']==1:\n",
        "    if a['actual']==0:\n",
        "      FN+=1\n",
        "    elif a['actual']==1:\n",
        "      TP+=1"
      ],
      "execution_count": 0,
      "outputs": []
    },
    {
      "cell_type": "code",
      "metadata": {
        "id": "OC4zXfYTaRnd",
        "colab_type": "code",
        "outputId": "fd78322a-13f6-4df1-8867-0a6dd60c5483",
        "colab": {
          "base_uri": "https://localhost:8080/",
          "height": 85
        }
      },
      "source": [
        "print(TP)\n",
        "print(FP)\n",
        "print(TN)\n",
        "print(FN)"
      ],
      "execution_count": 0,
      "outputs": [
        {
          "output_type": "stream",
          "text": [
            "349\n",
            "17\n",
            "162\n",
            "46\n"
          ],
          "name": "stdout"
        }
      ]
    },
    {
      "cell_type": "code",
      "metadata": {
        "id": "8zoOsZ-QbVx4",
        "colab_type": "code",
        "outputId": "c6e5d457-e0ab-4392-e842-acedc3bf39e3",
        "colab": {
          "base_uri": "https://localhost:8080/",
          "height": 34
        }
      },
      "source": [
        "MCC = ((TP*TN)-(FP*FN))/math.sqrt((TP+FP)*(TP+FN)*(TN+FP)*(TN+FN))\n",
        "print(MCC)"
      ],
      "execution_count": 0,
      "outputs": [
        {
          "output_type": "stream",
          "text": [
            "0.7599663028252964\n"
          ],
          "name": "stdout"
        }
      ]
    },
    {
      "cell_type": "code",
      "metadata": {
        "id": "-2dP5hnMdU5c",
        "colab_type": "code",
        "outputId": "f71aca3a-73f8-411e-e786-edc977d18ff4",
        "colab": {
          "base_uri": "https://localhost:8080/",
          "height": 34
        }
      },
      "source": [
        "P0 = (TP+TN)/(TP+TN+FP+FN)\n",
        "PY = ((TP+FN)/(TP+TN+FP+FN))*((TP+FP)/(TP+TN+FP+FN))\n",
        "PN = ((FP+TN)/(TP+TN+FP+FN))*((FN+TN)/(TP+TN+FP+FN))\n",
        "PE = PY+PN\n",
        "Cohens_Kappa=(P0-PE)/(1-PE)\n",
        "print(Cohens_Kappa)"
      ],
      "execution_count": 0,
      "outputs": [
        {
          "output_type": "stream",
          "text": [
            "0.7551227704267509\n"
          ],
          "name": "stdout"
        }
      ]
    },
    {
      "cell_type": "markdown",
      "metadata": {
        "id": "WZRjzYh0ckax",
        "colab_type": "text"
      },
      "source": [
        "On the MCC scale of -1 to 1, the given CNN is fairly good. It is a largely accurate predictive model for determining if a picture is a tank or not. The Cohen's Kappa indicates \"Substantial Agreement.\""
      ]
    }
  ]
}